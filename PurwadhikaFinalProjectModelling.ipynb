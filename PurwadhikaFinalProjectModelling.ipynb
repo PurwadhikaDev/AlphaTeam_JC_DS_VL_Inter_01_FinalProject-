{
  "nbformat": 4,
  "nbformat_minor": 0,
  "metadata": {
    "colab": {
      "provenance": [],
      "collapsed_sections": [
        "yN-JoXnxdgvf",
        "lBxpITBEduy4",
        "VPtPC2r6PQCg"
      ]
    },
    "kernelspec": {
      "name": "python3",
      "display_name": "Python 3"
    },
    "language_info": {
      "name": "python"
    }
  },
  "cells": [
    {
      "cell_type": "code",
      "source": [
        "from sklearn.experimental import enable_iterative_imputer"
      ],
      "metadata": {
        "id": "jaT6jTPddF9q"
      },
      "execution_count": 1,
      "outputs": []
    },
    {
      "cell_type": "code",
      "execution_count": 2,
      "metadata": {
        "id": "sJchJobVhnlR"
      },
      "outputs": [],
      "source": [
        "import pandas as pd\n",
        "import numpy as np\n",
        "import matplotlib.pyplot as plt\n",
        "import seaborn as sns\n",
        "\n",
        "from sklearn.pipeline import Pipeline\n",
        "from sklearn.impute import SimpleImputer, KNNImputer, IterativeImputer\n",
        "from sklearn.preprocessing import OneHotEncoder, StandardScaler\n",
        "from sklearn.compose import ColumnTransformer\n",
        "\n",
        "from sklearn.linear_model import LogisticRegression\n",
        "from sklearn.tree import DecisionTreeClassifier\n",
        "from sklearn.model_selection import GridSearchCV, StratifiedKFold, train_test_split, cross_val_score\n",
        "from sklearn.metrics import classification_report, roc_auc_score, RocCurveDisplay, ConfusionMatrixDisplay, PrecisionRecallDisplay, make_scorer, precision_score, recall_score, f1_score, accuracy_score\n",
        "from sklearn.neighbors import KNeighborsClassifier\n",
        "from sklearn.ensemble import RandomForestClassifier\n",
        "from xgboost import XGBClassifier\n",
        "\n",
        "from imblearn.pipeline import Pipeline\n",
        "from imblearn.over_sampling import RandomOverSampler, SMOTE"
      ]
    },
    {
      "cell_type": "code",
      "source": [
        "df_model = pd.read_excel(\"E Commerce Dataset.xlsx\", sheet_name = 'E Comm')\n",
        "df_model.head()"
      ],
      "metadata": {
        "colab": {
          "base_uri": "https://localhost:8080/",
          "height": 305
        },
        "id": "ZHgxcvFBi0vR",
        "outputId": "0414e857-64dc-4328-98df-1a4b868cf0e1"
      },
      "execution_count": 3,
      "outputs": [
        {
          "output_type": "execute_result",
          "data": {
            "text/plain": [
              "   CustomerID  Churn  Tenure PreferredLoginDevice  CityTier  WarehouseToHome  \\\n",
              "0       50001      1     4.0         Mobile Phone         3              6.0   \n",
              "1       50002      1     NaN                Phone         1              8.0   \n",
              "2       50003      1     NaN                Phone         1             30.0   \n",
              "3       50004      1     0.0                Phone         3             15.0   \n",
              "4       50005      1     0.0                Phone         1             12.0   \n",
              "\n",
              "  PreferredPaymentMode  Gender  HourSpendOnApp  NumberOfDeviceRegistered  \\\n",
              "0           Debit Card  Female             3.0                         3   \n",
              "1                  UPI    Male             3.0                         4   \n",
              "2           Debit Card    Male             2.0                         4   \n",
              "3           Debit Card    Male             2.0                         4   \n",
              "4                   CC    Male             NaN                         3   \n",
              "\n",
              "     PreferedOrderCat  SatisfactionScore MaritalStatus  NumberOfAddress  \\\n",
              "0  Laptop & Accessory                  2        Single                9   \n",
              "1              Mobile                  3        Single                7   \n",
              "2              Mobile                  3        Single                6   \n",
              "3  Laptop & Accessory                  5        Single                8   \n",
              "4              Mobile                  5        Single                3   \n",
              "\n",
              "   Complain  OrderAmountHikeFromlastYear  CouponUsed  OrderCount  \\\n",
              "0         1                         11.0         1.0         1.0   \n",
              "1         1                         15.0         0.0         1.0   \n",
              "2         1                         14.0         0.0         1.0   \n",
              "3         0                         23.0         0.0         1.0   \n",
              "4         0                         11.0         1.0         1.0   \n",
              "\n",
              "   DaySinceLastOrder  CashbackAmount  \n",
              "0                5.0          159.93  \n",
              "1                0.0          120.90  \n",
              "2                3.0          120.28  \n",
              "3                3.0          134.07  \n",
              "4                3.0          129.60  "
            ],
            "text/html": [
              "\n",
              "  <div id=\"df-62870d1a-cd9f-4b50-ac18-b3dbbc242478\">\n",
              "    <div class=\"colab-df-container\">\n",
              "      <div>\n",
              "<style scoped>\n",
              "    .dataframe tbody tr th:only-of-type {\n",
              "        vertical-align: middle;\n",
              "    }\n",
              "\n",
              "    .dataframe tbody tr th {\n",
              "        vertical-align: top;\n",
              "    }\n",
              "\n",
              "    .dataframe thead th {\n",
              "        text-align: right;\n",
              "    }\n",
              "</style>\n",
              "<table border=\"1\" class=\"dataframe\">\n",
              "  <thead>\n",
              "    <tr style=\"text-align: right;\">\n",
              "      <th></th>\n",
              "      <th>CustomerID</th>\n",
              "      <th>Churn</th>\n",
              "      <th>Tenure</th>\n",
              "      <th>PreferredLoginDevice</th>\n",
              "      <th>CityTier</th>\n",
              "      <th>WarehouseToHome</th>\n",
              "      <th>PreferredPaymentMode</th>\n",
              "      <th>Gender</th>\n",
              "      <th>HourSpendOnApp</th>\n",
              "      <th>NumberOfDeviceRegistered</th>\n",
              "      <th>PreferedOrderCat</th>\n",
              "      <th>SatisfactionScore</th>\n",
              "      <th>MaritalStatus</th>\n",
              "      <th>NumberOfAddress</th>\n",
              "      <th>Complain</th>\n",
              "      <th>OrderAmountHikeFromlastYear</th>\n",
              "      <th>CouponUsed</th>\n",
              "      <th>OrderCount</th>\n",
              "      <th>DaySinceLastOrder</th>\n",
              "      <th>CashbackAmount</th>\n",
              "    </tr>\n",
              "  </thead>\n",
              "  <tbody>\n",
              "    <tr>\n",
              "      <th>0</th>\n",
              "      <td>50001</td>\n",
              "      <td>1</td>\n",
              "      <td>4.0</td>\n",
              "      <td>Mobile Phone</td>\n",
              "      <td>3</td>\n",
              "      <td>6.0</td>\n",
              "      <td>Debit Card</td>\n",
              "      <td>Female</td>\n",
              "      <td>3.0</td>\n",
              "      <td>3</td>\n",
              "      <td>Laptop &amp; Accessory</td>\n",
              "      <td>2</td>\n",
              "      <td>Single</td>\n",
              "      <td>9</td>\n",
              "      <td>1</td>\n",
              "      <td>11.0</td>\n",
              "      <td>1.0</td>\n",
              "      <td>1.0</td>\n",
              "      <td>5.0</td>\n",
              "      <td>159.93</td>\n",
              "    </tr>\n",
              "    <tr>\n",
              "      <th>1</th>\n",
              "      <td>50002</td>\n",
              "      <td>1</td>\n",
              "      <td>NaN</td>\n",
              "      <td>Phone</td>\n",
              "      <td>1</td>\n",
              "      <td>8.0</td>\n",
              "      <td>UPI</td>\n",
              "      <td>Male</td>\n",
              "      <td>3.0</td>\n",
              "      <td>4</td>\n",
              "      <td>Mobile</td>\n",
              "      <td>3</td>\n",
              "      <td>Single</td>\n",
              "      <td>7</td>\n",
              "      <td>1</td>\n",
              "      <td>15.0</td>\n",
              "      <td>0.0</td>\n",
              "      <td>1.0</td>\n",
              "      <td>0.0</td>\n",
              "      <td>120.90</td>\n",
              "    </tr>\n",
              "    <tr>\n",
              "      <th>2</th>\n",
              "      <td>50003</td>\n",
              "      <td>1</td>\n",
              "      <td>NaN</td>\n",
              "      <td>Phone</td>\n",
              "      <td>1</td>\n",
              "      <td>30.0</td>\n",
              "      <td>Debit Card</td>\n",
              "      <td>Male</td>\n",
              "      <td>2.0</td>\n",
              "      <td>4</td>\n",
              "      <td>Mobile</td>\n",
              "      <td>3</td>\n",
              "      <td>Single</td>\n",
              "      <td>6</td>\n",
              "      <td>1</td>\n",
              "      <td>14.0</td>\n",
              "      <td>0.0</td>\n",
              "      <td>1.0</td>\n",
              "      <td>3.0</td>\n",
              "      <td>120.28</td>\n",
              "    </tr>\n",
              "    <tr>\n",
              "      <th>3</th>\n",
              "      <td>50004</td>\n",
              "      <td>1</td>\n",
              "      <td>0.0</td>\n",
              "      <td>Phone</td>\n",
              "      <td>3</td>\n",
              "      <td>15.0</td>\n",
              "      <td>Debit Card</td>\n",
              "      <td>Male</td>\n",
              "      <td>2.0</td>\n",
              "      <td>4</td>\n",
              "      <td>Laptop &amp; Accessory</td>\n",
              "      <td>5</td>\n",
              "      <td>Single</td>\n",
              "      <td>8</td>\n",
              "      <td>0</td>\n",
              "      <td>23.0</td>\n",
              "      <td>0.0</td>\n",
              "      <td>1.0</td>\n",
              "      <td>3.0</td>\n",
              "      <td>134.07</td>\n",
              "    </tr>\n",
              "    <tr>\n",
              "      <th>4</th>\n",
              "      <td>50005</td>\n",
              "      <td>1</td>\n",
              "      <td>0.0</td>\n",
              "      <td>Phone</td>\n",
              "      <td>1</td>\n",
              "      <td>12.0</td>\n",
              "      <td>CC</td>\n",
              "      <td>Male</td>\n",
              "      <td>NaN</td>\n",
              "      <td>3</td>\n",
              "      <td>Mobile</td>\n",
              "      <td>5</td>\n",
              "      <td>Single</td>\n",
              "      <td>3</td>\n",
              "      <td>0</td>\n",
              "      <td>11.0</td>\n",
              "      <td>1.0</td>\n",
              "      <td>1.0</td>\n",
              "      <td>3.0</td>\n",
              "      <td>129.60</td>\n",
              "    </tr>\n",
              "  </tbody>\n",
              "</table>\n",
              "</div>\n",
              "      <button class=\"colab-df-convert\" onclick=\"convertToInteractive('df-62870d1a-cd9f-4b50-ac18-b3dbbc242478')\"\n",
              "              title=\"Convert this dataframe to an interactive table.\"\n",
              "              style=\"display:none;\">\n",
              "        \n",
              "  <svg xmlns=\"http://www.w3.org/2000/svg\" height=\"24px\"viewBox=\"0 0 24 24\"\n",
              "       width=\"24px\">\n",
              "    <path d=\"M0 0h24v24H0V0z\" fill=\"none\"/>\n",
              "    <path d=\"M18.56 5.44l.94 2.06.94-2.06 2.06-.94-2.06-.94-.94-2.06-.94 2.06-2.06.94zm-11 1L8.5 8.5l.94-2.06 2.06-.94-2.06-.94L8.5 2.5l-.94 2.06-2.06.94zm10 10l.94 2.06.94-2.06 2.06-.94-2.06-.94-.94-2.06-.94 2.06-2.06.94z\"/><path d=\"M17.41 7.96l-1.37-1.37c-.4-.4-.92-.59-1.43-.59-.52 0-1.04.2-1.43.59L10.3 9.45l-7.72 7.72c-.78.78-.78 2.05 0 2.83L4 21.41c.39.39.9.59 1.41.59.51 0 1.02-.2 1.41-.59l7.78-7.78 2.81-2.81c.8-.78.8-2.07 0-2.86zM5.41 20L4 18.59l7.72-7.72 1.47 1.35L5.41 20z\"/>\n",
              "  </svg>\n",
              "      </button>\n",
              "      \n",
              "  <style>\n",
              "    .colab-df-container {\n",
              "      display:flex;\n",
              "      flex-wrap:wrap;\n",
              "      gap: 12px;\n",
              "    }\n",
              "\n",
              "    .colab-df-convert {\n",
              "      background-color: #E8F0FE;\n",
              "      border: none;\n",
              "      border-radius: 50%;\n",
              "      cursor: pointer;\n",
              "      display: none;\n",
              "      fill: #1967D2;\n",
              "      height: 32px;\n",
              "      padding: 0 0 0 0;\n",
              "      width: 32px;\n",
              "    }\n",
              "\n",
              "    .colab-df-convert:hover {\n",
              "      background-color: #E2EBFA;\n",
              "      box-shadow: 0px 1px 2px rgba(60, 64, 67, 0.3), 0px 1px 3px 1px rgba(60, 64, 67, 0.15);\n",
              "      fill: #174EA6;\n",
              "    }\n",
              "\n",
              "    [theme=dark] .colab-df-convert {\n",
              "      background-color: #3B4455;\n",
              "      fill: #D2E3FC;\n",
              "    }\n",
              "\n",
              "    [theme=dark] .colab-df-convert:hover {\n",
              "      background-color: #434B5C;\n",
              "      box-shadow: 0px 1px 3px 1px rgba(0, 0, 0, 0.15);\n",
              "      filter: drop-shadow(0px 1px 2px rgba(0, 0, 0, 0.3));\n",
              "      fill: #FFFFFF;\n",
              "    }\n",
              "  </style>\n",
              "\n",
              "      <script>\n",
              "        const buttonEl =\n",
              "          document.querySelector('#df-62870d1a-cd9f-4b50-ac18-b3dbbc242478 button.colab-df-convert');\n",
              "        buttonEl.style.display =\n",
              "          google.colab.kernel.accessAllowed ? 'block' : 'none';\n",
              "\n",
              "        async function convertToInteractive(key) {\n",
              "          const element = document.querySelector('#df-62870d1a-cd9f-4b50-ac18-b3dbbc242478');\n",
              "          const dataTable =\n",
              "            await google.colab.kernel.invokeFunction('convertToInteractive',\n",
              "                                                     [key], {});\n",
              "          if (!dataTable) return;\n",
              "\n",
              "          const docLinkHtml = 'Like what you see? Visit the ' +\n",
              "            '<a target=\"_blank\" href=https://colab.research.google.com/notebooks/data_table.ipynb>data table notebook</a>'\n",
              "            + ' to learn more about interactive tables.';\n",
              "          element.innerHTML = '';\n",
              "          dataTable['output_type'] = 'display_data';\n",
              "          await google.colab.output.renderOutput(dataTable, element);\n",
              "          const docLink = document.createElement('div');\n",
              "          docLink.innerHTML = docLinkHtml;\n",
              "          element.appendChild(docLink);\n",
              "        }\n",
              "      </script>\n",
              "    </div>\n",
              "  </div>\n",
              "  "
            ]
          },
          "metadata": {},
          "execution_count": 3
        }
      ]
    },
    {
      "cell_type": "code",
      "source": [
        "df_model.drop('CustomerID', axis = 1, inplace = True)"
      ],
      "metadata": {
        "id": "RNmYHPitqmis"
      },
      "execution_count": 4,
      "outputs": []
    },
    {
      "cell_type": "code",
      "source": [
        "listItem = []\n",
        "\n",
        "for col in df_model.columns:\n",
        "    listItem.append([col, df_model[col].dtype, df_model[col].nunique(), df_model[col].unique()])\n",
        "\n",
        "df_desc = pd.DataFrame(columns = ['Feature', 'Data Type', 'Number of Unique', 'Unique'], data = listItem)\n",
        "df_desc"
      ],
      "metadata": {
        "colab": {
          "base_uri": "https://localhost:8080/",
          "height": 645
        },
        "id": "aCbWKNGviZ0u",
        "outputId": "dbd25f45-65e7-457e-92bf-8869eb947e56"
      },
      "execution_count": 5,
      "outputs": [
        {
          "output_type": "execute_result",
          "data": {
            "text/plain": [
              "                        Feature Data Type  Number of Unique  \\\n",
              "0                         Churn     int64                 2   \n",
              "1                        Tenure   float64                36   \n",
              "2          PreferredLoginDevice    object                 3   \n",
              "3                      CityTier     int64                 3   \n",
              "4               WarehouseToHome   float64                34   \n",
              "5          PreferredPaymentMode    object                 7   \n",
              "6                        Gender    object                 2   \n",
              "7                HourSpendOnApp   float64                 6   \n",
              "8      NumberOfDeviceRegistered     int64                 6   \n",
              "9              PreferedOrderCat    object                 6   \n",
              "10            SatisfactionScore     int64                 5   \n",
              "11                MaritalStatus    object                 3   \n",
              "12              NumberOfAddress     int64                15   \n",
              "13                     Complain     int64                 2   \n",
              "14  OrderAmountHikeFromlastYear   float64                16   \n",
              "15                   CouponUsed   float64                17   \n",
              "16                   OrderCount   float64                16   \n",
              "17            DaySinceLastOrder   float64                22   \n",
              "18               CashbackAmount   float64              2586   \n",
              "\n",
              "                                               Unique  \n",
              "0                                              [1, 0]  \n",
              "1   [4.0, nan, 0.0, 13.0, 11.0, 9.0, 19.0, 20.0, 1...  \n",
              "2                     [Mobile Phone, Phone, Computer]  \n",
              "3                                           [3, 1, 2]  \n",
              "4   [6.0, 8.0, 30.0, 15.0, 12.0, 22.0, 11.0, 9.0, ...  \n",
              "5   [Debit Card, UPI, CC, Cash on Delivery, E wall...  \n",
              "6                                      [Female, Male]  \n",
              "7                 [3.0, 2.0, nan, 1.0, 0.0, 4.0, 5.0]  \n",
              "8                                  [3, 4, 5, 2, 1, 6]  \n",
              "9   [Laptop & Accessory, Mobile, Mobile Phone, Oth...  \n",
              "10                                    [2, 3, 5, 4, 1]  \n",
              "11                        [Single, Divorced, Married]  \n",
              "12  [9, 7, 6, 8, 3, 2, 4, 10, 1, 5, 19, 21, 11, 20...  \n",
              "13                                             [1, 0]  \n",
              "14  [11.0, 15.0, 14.0, 23.0, 22.0, 16.0, 12.0, nan...  \n",
              "15  [1.0, 0.0, 4.0, 2.0, 9.0, 6.0, 11.0, nan, 7.0,...  \n",
              "16  [1.0, 6.0, 2.0, 15.0, 4.0, 7.0, 3.0, 9.0, nan,...  \n",
              "17  [5.0, 0.0, 3.0, 7.0, 2.0, 1.0, 8.0, 6.0, 4.0, ...  \n",
              "18  [159.93, 120.9, 120.28, 134.07, 129.6, 139.19,...  "
            ],
            "text/html": [
              "\n",
              "  <div id=\"df-56eb487c-db3d-4aab-82ac-bbe2634d0ed4\">\n",
              "    <div class=\"colab-df-container\">\n",
              "      <div>\n",
              "<style scoped>\n",
              "    .dataframe tbody tr th:only-of-type {\n",
              "        vertical-align: middle;\n",
              "    }\n",
              "\n",
              "    .dataframe tbody tr th {\n",
              "        vertical-align: top;\n",
              "    }\n",
              "\n",
              "    .dataframe thead th {\n",
              "        text-align: right;\n",
              "    }\n",
              "</style>\n",
              "<table border=\"1\" class=\"dataframe\">\n",
              "  <thead>\n",
              "    <tr style=\"text-align: right;\">\n",
              "      <th></th>\n",
              "      <th>Feature</th>\n",
              "      <th>Data Type</th>\n",
              "      <th>Number of Unique</th>\n",
              "      <th>Unique</th>\n",
              "    </tr>\n",
              "  </thead>\n",
              "  <tbody>\n",
              "    <tr>\n",
              "      <th>0</th>\n",
              "      <td>Churn</td>\n",
              "      <td>int64</td>\n",
              "      <td>2</td>\n",
              "      <td>[1, 0]</td>\n",
              "    </tr>\n",
              "    <tr>\n",
              "      <th>1</th>\n",
              "      <td>Tenure</td>\n",
              "      <td>float64</td>\n",
              "      <td>36</td>\n",
              "      <td>[4.0, nan, 0.0, 13.0, 11.0, 9.0, 19.0, 20.0, 1...</td>\n",
              "    </tr>\n",
              "    <tr>\n",
              "      <th>2</th>\n",
              "      <td>PreferredLoginDevice</td>\n",
              "      <td>object</td>\n",
              "      <td>3</td>\n",
              "      <td>[Mobile Phone, Phone, Computer]</td>\n",
              "    </tr>\n",
              "    <tr>\n",
              "      <th>3</th>\n",
              "      <td>CityTier</td>\n",
              "      <td>int64</td>\n",
              "      <td>3</td>\n",
              "      <td>[3, 1, 2]</td>\n",
              "    </tr>\n",
              "    <tr>\n",
              "      <th>4</th>\n",
              "      <td>WarehouseToHome</td>\n",
              "      <td>float64</td>\n",
              "      <td>34</td>\n",
              "      <td>[6.0, 8.0, 30.0, 15.0, 12.0, 22.0, 11.0, 9.0, ...</td>\n",
              "    </tr>\n",
              "    <tr>\n",
              "      <th>5</th>\n",
              "      <td>PreferredPaymentMode</td>\n",
              "      <td>object</td>\n",
              "      <td>7</td>\n",
              "      <td>[Debit Card, UPI, CC, Cash on Delivery, E wall...</td>\n",
              "    </tr>\n",
              "    <tr>\n",
              "      <th>6</th>\n",
              "      <td>Gender</td>\n",
              "      <td>object</td>\n",
              "      <td>2</td>\n",
              "      <td>[Female, Male]</td>\n",
              "    </tr>\n",
              "    <tr>\n",
              "      <th>7</th>\n",
              "      <td>HourSpendOnApp</td>\n",
              "      <td>float64</td>\n",
              "      <td>6</td>\n",
              "      <td>[3.0, 2.0, nan, 1.0, 0.0, 4.0, 5.0]</td>\n",
              "    </tr>\n",
              "    <tr>\n",
              "      <th>8</th>\n",
              "      <td>NumberOfDeviceRegistered</td>\n",
              "      <td>int64</td>\n",
              "      <td>6</td>\n",
              "      <td>[3, 4, 5, 2, 1, 6]</td>\n",
              "    </tr>\n",
              "    <tr>\n",
              "      <th>9</th>\n",
              "      <td>PreferedOrderCat</td>\n",
              "      <td>object</td>\n",
              "      <td>6</td>\n",
              "      <td>[Laptop &amp; Accessory, Mobile, Mobile Phone, Oth...</td>\n",
              "    </tr>\n",
              "    <tr>\n",
              "      <th>10</th>\n",
              "      <td>SatisfactionScore</td>\n",
              "      <td>int64</td>\n",
              "      <td>5</td>\n",
              "      <td>[2, 3, 5, 4, 1]</td>\n",
              "    </tr>\n",
              "    <tr>\n",
              "      <th>11</th>\n",
              "      <td>MaritalStatus</td>\n",
              "      <td>object</td>\n",
              "      <td>3</td>\n",
              "      <td>[Single, Divorced, Married]</td>\n",
              "    </tr>\n",
              "    <tr>\n",
              "      <th>12</th>\n",
              "      <td>NumberOfAddress</td>\n",
              "      <td>int64</td>\n",
              "      <td>15</td>\n",
              "      <td>[9, 7, 6, 8, 3, 2, 4, 10, 1, 5, 19, 21, 11, 20...</td>\n",
              "    </tr>\n",
              "    <tr>\n",
              "      <th>13</th>\n",
              "      <td>Complain</td>\n",
              "      <td>int64</td>\n",
              "      <td>2</td>\n",
              "      <td>[1, 0]</td>\n",
              "    </tr>\n",
              "    <tr>\n",
              "      <th>14</th>\n",
              "      <td>OrderAmountHikeFromlastYear</td>\n",
              "      <td>float64</td>\n",
              "      <td>16</td>\n",
              "      <td>[11.0, 15.0, 14.0, 23.0, 22.0, 16.0, 12.0, nan...</td>\n",
              "    </tr>\n",
              "    <tr>\n",
              "      <th>15</th>\n",
              "      <td>CouponUsed</td>\n",
              "      <td>float64</td>\n",
              "      <td>17</td>\n",
              "      <td>[1.0, 0.0, 4.0, 2.0, 9.0, 6.0, 11.0, nan, 7.0,...</td>\n",
              "    </tr>\n",
              "    <tr>\n",
              "      <th>16</th>\n",
              "      <td>OrderCount</td>\n",
              "      <td>float64</td>\n",
              "      <td>16</td>\n",
              "      <td>[1.0, 6.0, 2.0, 15.0, 4.0, 7.0, 3.0, 9.0, nan,...</td>\n",
              "    </tr>\n",
              "    <tr>\n",
              "      <th>17</th>\n",
              "      <td>DaySinceLastOrder</td>\n",
              "      <td>float64</td>\n",
              "      <td>22</td>\n",
              "      <td>[5.0, 0.0, 3.0, 7.0, 2.0, 1.0, 8.0, 6.0, 4.0, ...</td>\n",
              "    </tr>\n",
              "    <tr>\n",
              "      <th>18</th>\n",
              "      <td>CashbackAmount</td>\n",
              "      <td>float64</td>\n",
              "      <td>2586</td>\n",
              "      <td>[159.93, 120.9, 120.28, 134.07, 129.6, 139.19,...</td>\n",
              "    </tr>\n",
              "  </tbody>\n",
              "</table>\n",
              "</div>\n",
              "      <button class=\"colab-df-convert\" onclick=\"convertToInteractive('df-56eb487c-db3d-4aab-82ac-bbe2634d0ed4')\"\n",
              "              title=\"Convert this dataframe to an interactive table.\"\n",
              "              style=\"display:none;\">\n",
              "        \n",
              "  <svg xmlns=\"http://www.w3.org/2000/svg\" height=\"24px\"viewBox=\"0 0 24 24\"\n",
              "       width=\"24px\">\n",
              "    <path d=\"M0 0h24v24H0V0z\" fill=\"none\"/>\n",
              "    <path d=\"M18.56 5.44l.94 2.06.94-2.06 2.06-.94-2.06-.94-.94-2.06-.94 2.06-2.06.94zm-11 1L8.5 8.5l.94-2.06 2.06-.94-2.06-.94L8.5 2.5l-.94 2.06-2.06.94zm10 10l.94 2.06.94-2.06 2.06-.94-2.06-.94-.94-2.06-.94 2.06-2.06.94z\"/><path d=\"M17.41 7.96l-1.37-1.37c-.4-.4-.92-.59-1.43-.59-.52 0-1.04.2-1.43.59L10.3 9.45l-7.72 7.72c-.78.78-.78 2.05 0 2.83L4 21.41c.39.39.9.59 1.41.59.51 0 1.02-.2 1.41-.59l7.78-7.78 2.81-2.81c.8-.78.8-2.07 0-2.86zM5.41 20L4 18.59l7.72-7.72 1.47 1.35L5.41 20z\"/>\n",
              "  </svg>\n",
              "      </button>\n",
              "      \n",
              "  <style>\n",
              "    .colab-df-container {\n",
              "      display:flex;\n",
              "      flex-wrap:wrap;\n",
              "      gap: 12px;\n",
              "    }\n",
              "\n",
              "    .colab-df-convert {\n",
              "      background-color: #E8F0FE;\n",
              "      border: none;\n",
              "      border-radius: 50%;\n",
              "      cursor: pointer;\n",
              "      display: none;\n",
              "      fill: #1967D2;\n",
              "      height: 32px;\n",
              "      padding: 0 0 0 0;\n",
              "      width: 32px;\n",
              "    }\n",
              "\n",
              "    .colab-df-convert:hover {\n",
              "      background-color: #E2EBFA;\n",
              "      box-shadow: 0px 1px 2px rgba(60, 64, 67, 0.3), 0px 1px 3px 1px rgba(60, 64, 67, 0.15);\n",
              "      fill: #174EA6;\n",
              "    }\n",
              "\n",
              "    [theme=dark] .colab-df-convert {\n",
              "      background-color: #3B4455;\n",
              "      fill: #D2E3FC;\n",
              "    }\n",
              "\n",
              "    [theme=dark] .colab-df-convert:hover {\n",
              "      background-color: #434B5C;\n",
              "      box-shadow: 0px 1px 3px 1px rgba(0, 0, 0, 0.15);\n",
              "      filter: drop-shadow(0px 1px 2px rgba(0, 0, 0, 0.3));\n",
              "      fill: #FFFFFF;\n",
              "    }\n",
              "  </style>\n",
              "\n",
              "      <script>\n",
              "        const buttonEl =\n",
              "          document.querySelector('#df-56eb487c-db3d-4aab-82ac-bbe2634d0ed4 button.colab-df-convert');\n",
              "        buttonEl.style.display =\n",
              "          google.colab.kernel.accessAllowed ? 'block' : 'none';\n",
              "\n",
              "        async function convertToInteractive(key) {\n",
              "          const element = document.querySelector('#df-56eb487c-db3d-4aab-82ac-bbe2634d0ed4');\n",
              "          const dataTable =\n",
              "            await google.colab.kernel.invokeFunction('convertToInteractive',\n",
              "                                                     [key], {});\n",
              "          if (!dataTable) return;\n",
              "\n",
              "          const docLinkHtml = 'Like what you see? Visit the ' +\n",
              "            '<a target=\"_blank\" href=https://colab.research.google.com/notebooks/data_table.ipynb>data table notebook</a>'\n",
              "            + ' to learn more about interactive tables.';\n",
              "          element.innerHTML = '';\n",
              "          dataTable['output_type'] = 'display_data';\n",
              "          await google.colab.output.renderOutput(dataTable, element);\n",
              "          const docLink = document.createElement('div');\n",
              "          docLink.innerHTML = docLinkHtml;\n",
              "          element.appendChild(docLink);\n",
              "        }\n",
              "      </script>\n",
              "    </div>\n",
              "  </div>\n",
              "  "
            ]
          },
          "metadata": {},
          "execution_count": 5
        }
      ]
    },
    {
      "cell_type": "code",
      "source": [
        "numerical_var = ['Tenure', 'WarehouseToHome', 'HourSpendOnApp', 'NumberOfDeviceRegistered', 'NumberOfAddress', 'OrderAmountHikeFromlastYear', 'CouponUsed', 'OrderCount', 'DaySinceLastOrder', 'CashbackAmount']\n",
        "categorical_var = ['PreferredLoginDevice', 'CityTier', 'Gender', 'PreferedOrderCat', 'SatisfactionScore', 'MaritalStatus', 'Complain']"
      ],
      "metadata": {
        "id": "zBaw3MQPWr2P"
      },
      "execution_count": 6,
      "outputs": []
    },
    {
      "cell_type": "code",
      "source": [
        "df_model['PreferedOrderCat'].replace({'Mobile' : 'Mobile Phone'}, inplace = True)\n",
        "df_model['PreferredPaymentMode'].replace({'CC' : 'Credit Card', 'COD' : 'Cash on Delivery'}, inplace = True)\n",
        "df_model['PreferredLoginDevice'].replace({'Phone' : 'Mobile Phone'}, inplace = True)"
      ],
      "metadata": {
        "id": "mV8nVEK5Swwa"
      },
      "execution_count": 7,
      "outputs": []
    },
    {
      "cell_type": "markdown",
      "source": [
        "# Feature Engineering"
      ],
      "metadata": {
        "id": "63bvP1JejJP9"
      }
    },
    {
      "cell_type": "markdown",
      "source": [
        "## Data Encoding"
      ],
      "metadata": {
        "id": "KdiF2y6_jL1P"
      }
    },
    {
      "cell_type": "markdown",
      "source": [
        "For the encoding, we will use the following for each of the categorical features:\n",
        "1. Preferred Login Device will be encoded using the one-hot encoding since it has a few amount of unique values and there is no order to the data.\n",
        "2. Preferred Payment Mode will be encoded using binary encoding, since it had quite large amount of unique values, and also no order to the data.\n",
        "3. Gender will be encoded using the one-hot encoding since it has only 2 unique values and no order to the data.\n",
        "4. Preferred Order Category will be encoded using binary encoding since it has quite large amount of unique values and no order to the data.\n",
        "5. Marital Status will be encoded using the one-hot encoding since it has few unique values and no order to the data."
      ],
      "metadata": {
        "id": "K_pDFWjZjOXn"
      }
    },
    {
      "cell_type": "markdown",
      "source": [
        "For imputing the missing values we will try using 3 imputers, the simple imputer with the median strategy since all of the column that will be imputed are numerical values that is not normally distributed. The KNN Imputer, and the Iterative Imputer with the initial strategy of Median for the same reason that we use the median strategy for the simple imputer"
      ],
      "metadata": {
        "id": "oNEZKbhZeUy7"
      }
    },
    {
      "cell_type": "code",
      "source": [
        "imputer_var = ['Tenure', 'WarehouseToHome', 'HourSpendOnApp', 'OrderAmountHikeFromlastYear', 'CouponUsed', 'OrderCount', 'DaySinceLastOrder', 'CashbackAmount']\n",
        "one_hot_var = ['PreferredLoginDevice', 'Gender', 'MaritalStatus']\n",
        "binary_var = ['PreferredPaymentMode', 'PreferedOrderCat']\n",
        "cat_var = ['PreferredLoginDevice', 'Gender', 'MaritalStatus', 'PreferredPaymentMode', 'PreferedOrderCat']"
      ],
      "metadata": {
        "id": "VLFp_NB5kTuc"
      },
      "execution_count": 8,
      "outputs": []
    },
    {
      "cell_type": "code",
      "source": [
        "remainder = ['CityTier', 'NumberOfDeviceRegistered', 'SatisfactionScore', 'NumberOfAddress', 'Complain']"
      ],
      "metadata": {
        "id": "Gbn5urG5rbDP"
      },
      "execution_count": 9,
      "outputs": []
    },
    {
      "cell_type": "code",
      "source": [
        "numeric_transformer = Pipeline(steps = [\n",
        "    ('imputer', SimpleImputer(strategy = 'median')),\n",
        "    ('scaler', StandardScaler())\n",
        "])"
      ],
      "metadata": {
        "id": "foNccpZiXn9E"
      },
      "execution_count": 10,
      "outputs": []
    },
    {
      "cell_type": "code",
      "source": [
        "numeric_transformer_knn = Pipeline(steps = [\n",
        "    ('imputer', KNNImputer()),\n",
        "    ('scaler', StandardScaler())\n",
        "])"
      ],
      "metadata": {
        "id": "CltQfvva6L9d"
      },
      "execution_count": 11,
      "outputs": []
    },
    {
      "cell_type": "code",
      "source": [
        "numeric_transformer_iter = Pipeline(steps = [\n",
        "    ('imputer', IterativeImputer(initial_strategy = 'median', random_state = 2021)),\n",
        "    ('scaler', StandardScaler())\n",
        "])"
      ],
      "metadata": {
        "id": "P1f4Z42W6XKn"
      },
      "execution_count": 12,
      "outputs": []
    },
    {
      "cell_type": "code",
      "source": [
        "cat_transfomer1 = ColumnTransformer([\n",
        "    ('onehot', OneHotEncoder(), cat_var)\n",
        "], remainder='drop')"
      ],
      "metadata": {
        "id": "VaNH53lV1Nh5"
      },
      "execution_count": 13,
      "outputs": []
    },
    {
      "cell_type": "code",
      "source": [
        "transformer_simple2 = ColumnTransformer([\n",
        "    ('numtransformer', numeric_transformer, numerical_var),\n",
        "    ('onehot', OneHotEncoder(), cat_var),\n",
        "], remainder='passthrough')"
      ],
      "metadata": {
        "id": "ol5AKzRey9-D"
      },
      "execution_count": 14,
      "outputs": []
    },
    {
      "cell_type": "code",
      "source": [
        "transformer_knn = ColumnTransformer([\n",
        "    ('numtransformer', numeric_transformer_knn, numerical_var),\n",
        "    ('onehot', OneHotEncoder(), cat_var),\n",
        "], remainder='passthrough')"
      ],
      "metadata": {
        "id": "Zhqp6pvlSp2M"
      },
      "execution_count": 15,
      "outputs": []
    },
    {
      "cell_type": "code",
      "source": [
        "transformer_iter = ColumnTransformer([\n",
        "    ('numtransformer', numeric_transformer_iter, numerical_var),\n",
        "    ('onehot', OneHotEncoder(), cat_var),\n",
        "], remainder='passthrough')"
      ],
      "metadata": {
        "id": "Lkp9Zx8odSom"
      },
      "execution_count": 16,
      "outputs": []
    },
    {
      "cell_type": "markdown",
      "source": [
        "# Model Training"
      ],
      "metadata": {
        "id": "x7d4Gplr7G5g"
      }
    },
    {
      "cell_type": "markdown",
      "source": [
        "## Choosing a Model using Cross-Validation"
      ],
      "metadata": {
        "id": "sSaSAMS3lwqU"
      }
    },
    {
      "cell_type": "markdown",
      "source": [
        "We will first use cross-validation to select which model produces better results in the metrics, we will first check the ROC-AUC score as the scoring metric in this step.\n",
        "\n",
        "While we are cross validate the model, we will also try some of the imputer method that sklearn provides, namely, SimpleImputer method, KNNImputer method, and the IterativeImputer method"
      ],
      "metadata": {
        "id": "JO7Sh5xlOdfj"
      }
    },
    {
      "cell_type": "markdown",
      "source": [
        "The models that we are cross-validating are:\n",
        "1. Logistic Regression: A linear model that is used for classification, the model uses a logistic function, to describe the probabilities of possible outcomes\n",
        "2. KNN: A machine learning model that classifies data into target variables by calculating the nearest neighbors that is classified on each point.\n",
        "3. Decision Tree: A machine learning model that predicts the target variable by learning decision that splits the data to classify the result, decision tree will keep splitting until the parameters are fulfilled, whether the tree has reached its maximum depth or the split no longer produces a good split\n",
        "4. Random Forest: a machine learning model that fits multiple decision tree on various samples that is chosen randomly with the final result being a majority vote.\n",
        "5. XGBoost: a machine learning model that first creates a weak learner and then update the model by increasing the weights where the data is incorrectly predicted."
      ],
      "metadata": {
        "id": "16nD7B8NgeXH"
      }
    },
    {
      "cell_type": "code",
      "source": [
        "x = df_model.drop('Churn', axis = 1)\n",
        "y = df_model['Churn']"
      ],
      "metadata": {
        "id": "dKNC7bh0ll5D"
      },
      "execution_count": 17,
      "outputs": []
    },
    {
      "cell_type": "code",
      "source": [
        "x_train, x_test, y_train, y_test = train_test_split(\n",
        "    x,\n",
        "    y,\n",
        "    test_size = 0.3,\n",
        "    random_state = 1,\n",
        "    stratify = y\n",
        ")"
      ],
      "metadata": {
        "id": "73JvvwATn6K3"
      },
      "execution_count": 18,
      "outputs": []
    },
    {
      "cell_type": "code",
      "source": [
        "logreg = LogisticRegression()\n",
        "knn = KNeighborsClassifier()\n",
        "dt = DecisionTreeClassifier()\n",
        "rf = RandomForestClassifier(random_state = 42)\n",
        "xgb = XGBClassifier(random_state = 42)"
      ],
      "metadata": {
        "id": "NAkVq06tl_I9"
      },
      "execution_count": 19,
      "outputs": []
    },
    {
      "cell_type": "code",
      "source": [
        "models = [logreg, knn, dt, rf, xgb]\n",
        "scoring = {'accuracy' : make_scorer(accuracy_score), \n",
        "           'precision' : make_scorer(precision_score),\n",
        "           'recall' : make_scorer(recall_score), \n",
        "           'f1 score' : make_scorer(f1_score),\n",
        "           'roc-auc score' : make_scorer(roc_auc_score)}\n",
        "score = []\n",
        "mean = []\n",
        "std = []\n",
        "\n",
        "for i in models:\n",
        "  skfold = StratifiedKFold(n_splits=5)\n",
        "  pipeline = Pipeline([\n",
        "    ('preprocess',transformer_simple2),\n",
        "    ('model',i)\n",
        "    ])\n",
        "  model_cv = cross_val_score(pipeline, x_train, y_train, cv = skfold, scoring = 'roc_auc')\n",
        "  score.append(model_cv)\n",
        "  mean.append(model_cv.mean())\n",
        "  std.append(model_cv.std())"
      ],
      "metadata": {
        "id": "b7uOhNmvmZCY",
        "colab": {
          "base_uri": "https://localhost:8080/"
        },
        "outputId": "94a649ad-57f8-4392-d12a-52be0411e9f4"
      },
      "execution_count": 20,
      "outputs": [
        {
          "output_type": "stream",
          "name": "stderr",
          "text": [
            "/usr/local/lib/python3.7/dist-packages/sklearn/linear_model/_logistic.py:818: ConvergenceWarning: lbfgs failed to converge (status=1):\n",
            "STOP: TOTAL NO. of ITERATIONS REACHED LIMIT.\n",
            "\n",
            "Increase the number of iterations (max_iter) or scale the data as shown in:\n",
            "    https://scikit-learn.org/stable/modules/preprocessing.html\n",
            "Please also refer to the documentation for alternative solver options:\n",
            "    https://scikit-learn.org/stable/modules/linear_model.html#logistic-regression\n",
            "  extra_warning_msg=_LOGISTIC_SOLVER_CONVERGENCE_MSG,\n",
            "/usr/local/lib/python3.7/dist-packages/sklearn/linear_model/_logistic.py:818: ConvergenceWarning: lbfgs failed to converge (status=1):\n",
            "STOP: TOTAL NO. of ITERATIONS REACHED LIMIT.\n",
            "\n",
            "Increase the number of iterations (max_iter) or scale the data as shown in:\n",
            "    https://scikit-learn.org/stable/modules/preprocessing.html\n",
            "Please also refer to the documentation for alternative solver options:\n",
            "    https://scikit-learn.org/stable/modules/linear_model.html#logistic-regression\n",
            "  extra_warning_msg=_LOGISTIC_SOLVER_CONVERGENCE_MSG,\n",
            "/usr/local/lib/python3.7/dist-packages/sklearn/linear_model/_logistic.py:818: ConvergenceWarning: lbfgs failed to converge (status=1):\n",
            "STOP: TOTAL NO. of ITERATIONS REACHED LIMIT.\n",
            "\n",
            "Increase the number of iterations (max_iter) or scale the data as shown in:\n",
            "    https://scikit-learn.org/stable/modules/preprocessing.html\n",
            "Please also refer to the documentation for alternative solver options:\n",
            "    https://scikit-learn.org/stable/modules/linear_model.html#logistic-regression\n",
            "  extra_warning_msg=_LOGISTIC_SOLVER_CONVERGENCE_MSG,\n"
          ]
        }
      ]
    },
    {
      "cell_type": "code",
      "source": [
        "score_array = np.array(score)\n",
        "score_array = score_array.transpose()\n",
        "df_cv_simple = pd.DataFrame(\n",
        "    data = {'Models' : ['Logistic Regression', 'KNeighbors', 'Decision Tree', 'Random Forest', 'XGBoost'], \n",
        "            'ROC-AUC Score 1' : score_array[0], \n",
        "            'ROC-AUC Score 2' : score_array[1], \n",
        "            'ROC-AUC Score 3' : score_array[2], \n",
        "            'ROC-AUC Score 4' : score_array[3], \n",
        "            'ROC-AUC Score 5' : score_array[4], \n",
        "            'ROC-AUC Score Mean' : mean, \n",
        "            'ROC-AUC Score Standard Deviation' : std})\n",
        "df_cv_simple.set_index('Models').sort_values('ROC-AUC Score Mean', ascending = False)"
      ],
      "metadata": {
        "colab": {
          "base_uri": "https://localhost:8080/",
          "height": 238
        },
        "id": "u4u-OQ19bvXX",
        "outputId": "313794ef-753b-4f6a-bebb-88c5ab8e3ce1"
      },
      "execution_count": 21,
      "outputs": [
        {
          "output_type": "execute_result",
          "data": {
            "text/plain": [
              "                     ROC-AUC Score 1  ROC-AUC Score 2  ROC-AUC Score 3  \\\n",
              "Models                                                                   \n",
              "Random Forest               0.983404         0.981292         0.981134   \n",
              "XGBoost                     0.932870         0.929970         0.944212   \n",
              "KNeighbors                  0.937907         0.921950         0.923486   \n",
              "Logistic Regression         0.886095         0.886317         0.901464   \n",
              "Decision Tree               0.873447         0.870288         0.868077   \n",
              "\n",
              "                     ROC-AUC Score 4  ROC-AUC Score 5  ROC-AUC Score Mean  \\\n",
              "Models                                                                      \n",
              "Random Forest               0.972490         0.958457            0.975355   \n",
              "XGBoost                     0.928049         0.918866            0.930793   \n",
              "KNeighbors                  0.923624         0.903725            0.922138   \n",
              "Logistic Regression         0.893049         0.885393            0.890464   \n",
              "Decision Tree               0.811628         0.873248            0.859338   \n",
              "\n",
              "                     ROC-AUC Score Standard Deviation  \n",
              "Models                                                 \n",
              "Random Forest                                0.009243  \n",
              "XGBoost                                      0.008183  \n",
              "KNeighbors                                   0.010879  \n",
              "Logistic Regression                          0.006159  \n",
              "Decision Tree                                0.023938  "
            ],
            "text/html": [
              "\n",
              "  <div id=\"df-834becc0-c65c-4faa-8f93-ce0dfc59809a\">\n",
              "    <div class=\"colab-df-container\">\n",
              "      <div>\n",
              "<style scoped>\n",
              "    .dataframe tbody tr th:only-of-type {\n",
              "        vertical-align: middle;\n",
              "    }\n",
              "\n",
              "    .dataframe tbody tr th {\n",
              "        vertical-align: top;\n",
              "    }\n",
              "\n",
              "    .dataframe thead th {\n",
              "        text-align: right;\n",
              "    }\n",
              "</style>\n",
              "<table border=\"1\" class=\"dataframe\">\n",
              "  <thead>\n",
              "    <tr style=\"text-align: right;\">\n",
              "      <th></th>\n",
              "      <th>ROC-AUC Score 1</th>\n",
              "      <th>ROC-AUC Score 2</th>\n",
              "      <th>ROC-AUC Score 3</th>\n",
              "      <th>ROC-AUC Score 4</th>\n",
              "      <th>ROC-AUC Score 5</th>\n",
              "      <th>ROC-AUC Score Mean</th>\n",
              "      <th>ROC-AUC Score Standard Deviation</th>\n",
              "    </tr>\n",
              "    <tr>\n",
              "      <th>Models</th>\n",
              "      <th></th>\n",
              "      <th></th>\n",
              "      <th></th>\n",
              "      <th></th>\n",
              "      <th></th>\n",
              "      <th></th>\n",
              "      <th></th>\n",
              "    </tr>\n",
              "  </thead>\n",
              "  <tbody>\n",
              "    <tr>\n",
              "      <th>Random Forest</th>\n",
              "      <td>0.983404</td>\n",
              "      <td>0.981292</td>\n",
              "      <td>0.981134</td>\n",
              "      <td>0.972490</td>\n",
              "      <td>0.958457</td>\n",
              "      <td>0.975355</td>\n",
              "      <td>0.009243</td>\n",
              "    </tr>\n",
              "    <tr>\n",
              "      <th>XGBoost</th>\n",
              "      <td>0.932870</td>\n",
              "      <td>0.929970</td>\n",
              "      <td>0.944212</td>\n",
              "      <td>0.928049</td>\n",
              "      <td>0.918866</td>\n",
              "      <td>0.930793</td>\n",
              "      <td>0.008183</td>\n",
              "    </tr>\n",
              "    <tr>\n",
              "      <th>KNeighbors</th>\n",
              "      <td>0.937907</td>\n",
              "      <td>0.921950</td>\n",
              "      <td>0.923486</td>\n",
              "      <td>0.923624</td>\n",
              "      <td>0.903725</td>\n",
              "      <td>0.922138</td>\n",
              "      <td>0.010879</td>\n",
              "    </tr>\n",
              "    <tr>\n",
              "      <th>Logistic Regression</th>\n",
              "      <td>0.886095</td>\n",
              "      <td>0.886317</td>\n",
              "      <td>0.901464</td>\n",
              "      <td>0.893049</td>\n",
              "      <td>0.885393</td>\n",
              "      <td>0.890464</td>\n",
              "      <td>0.006159</td>\n",
              "    </tr>\n",
              "    <tr>\n",
              "      <th>Decision Tree</th>\n",
              "      <td>0.873447</td>\n",
              "      <td>0.870288</td>\n",
              "      <td>0.868077</td>\n",
              "      <td>0.811628</td>\n",
              "      <td>0.873248</td>\n",
              "      <td>0.859338</td>\n",
              "      <td>0.023938</td>\n",
              "    </tr>\n",
              "  </tbody>\n",
              "</table>\n",
              "</div>\n",
              "      <button class=\"colab-df-convert\" onclick=\"convertToInteractive('df-834becc0-c65c-4faa-8f93-ce0dfc59809a')\"\n",
              "              title=\"Convert this dataframe to an interactive table.\"\n",
              "              style=\"display:none;\">\n",
              "        \n",
              "  <svg xmlns=\"http://www.w3.org/2000/svg\" height=\"24px\"viewBox=\"0 0 24 24\"\n",
              "       width=\"24px\">\n",
              "    <path d=\"M0 0h24v24H0V0z\" fill=\"none\"/>\n",
              "    <path d=\"M18.56 5.44l.94 2.06.94-2.06 2.06-.94-2.06-.94-.94-2.06-.94 2.06-2.06.94zm-11 1L8.5 8.5l.94-2.06 2.06-.94-2.06-.94L8.5 2.5l-.94 2.06-2.06.94zm10 10l.94 2.06.94-2.06 2.06-.94-2.06-.94-.94-2.06-.94 2.06-2.06.94z\"/><path d=\"M17.41 7.96l-1.37-1.37c-.4-.4-.92-.59-1.43-.59-.52 0-1.04.2-1.43.59L10.3 9.45l-7.72 7.72c-.78.78-.78 2.05 0 2.83L4 21.41c.39.39.9.59 1.41.59.51 0 1.02-.2 1.41-.59l7.78-7.78 2.81-2.81c.8-.78.8-2.07 0-2.86zM5.41 20L4 18.59l7.72-7.72 1.47 1.35L5.41 20z\"/>\n",
              "  </svg>\n",
              "      </button>\n",
              "      \n",
              "  <style>\n",
              "    .colab-df-container {\n",
              "      display:flex;\n",
              "      flex-wrap:wrap;\n",
              "      gap: 12px;\n",
              "    }\n",
              "\n",
              "    .colab-df-convert {\n",
              "      background-color: #E8F0FE;\n",
              "      border: none;\n",
              "      border-radius: 50%;\n",
              "      cursor: pointer;\n",
              "      display: none;\n",
              "      fill: #1967D2;\n",
              "      height: 32px;\n",
              "      padding: 0 0 0 0;\n",
              "      width: 32px;\n",
              "    }\n",
              "\n",
              "    .colab-df-convert:hover {\n",
              "      background-color: #E2EBFA;\n",
              "      box-shadow: 0px 1px 2px rgba(60, 64, 67, 0.3), 0px 1px 3px 1px rgba(60, 64, 67, 0.15);\n",
              "      fill: #174EA6;\n",
              "    }\n",
              "\n",
              "    [theme=dark] .colab-df-convert {\n",
              "      background-color: #3B4455;\n",
              "      fill: #D2E3FC;\n",
              "    }\n",
              "\n",
              "    [theme=dark] .colab-df-convert:hover {\n",
              "      background-color: #434B5C;\n",
              "      box-shadow: 0px 1px 3px 1px rgba(0, 0, 0, 0.15);\n",
              "      filter: drop-shadow(0px 1px 2px rgba(0, 0, 0, 0.3));\n",
              "      fill: #FFFFFF;\n",
              "    }\n",
              "  </style>\n",
              "\n",
              "      <script>\n",
              "        const buttonEl =\n",
              "          document.querySelector('#df-834becc0-c65c-4faa-8f93-ce0dfc59809a button.colab-df-convert');\n",
              "        buttonEl.style.display =\n",
              "          google.colab.kernel.accessAllowed ? 'block' : 'none';\n",
              "\n",
              "        async function convertToInteractive(key) {\n",
              "          const element = document.querySelector('#df-834becc0-c65c-4faa-8f93-ce0dfc59809a');\n",
              "          const dataTable =\n",
              "            await google.colab.kernel.invokeFunction('convertToInteractive',\n",
              "                                                     [key], {});\n",
              "          if (!dataTable) return;\n",
              "\n",
              "          const docLinkHtml = 'Like what you see? Visit the ' +\n",
              "            '<a target=\"_blank\" href=https://colab.research.google.com/notebooks/data_table.ipynb>data table notebook</a>'\n",
              "            + ' to learn more about interactive tables.';\n",
              "          element.innerHTML = '';\n",
              "          dataTable['output_type'] = 'display_data';\n",
              "          await google.colab.output.renderOutput(dataTable, element);\n",
              "          const docLink = document.createElement('div');\n",
              "          docLink.innerHTML = docLinkHtml;\n",
              "          element.appendChild(docLink);\n",
              "        }\n",
              "      </script>\n",
              "    </div>\n",
              "  </div>\n",
              "  "
            ]
          },
          "metadata": {},
          "execution_count": 21
        }
      ]
    },
    {
      "cell_type": "markdown",
      "source": [
        "As can be seen above the highest mean of the ROC-AUC score produced by the model is the model using the Random Forest."
      ],
      "metadata": {
        "id": "wqsm-J1GOtKd"
      }
    },
    {
      "cell_type": "code",
      "source": [
        "for i in models:\n",
        "  skfold = StratifiedKFold(n_splits=5)\n",
        "  pipeline = Pipeline([\n",
        "    ('preprocess',transformer_simple2),\n",
        "    ('model',i)\n",
        "    ])\n",
        "  pipeline.fit(x_train, y_train)\n",
        "  y_pred_simple = pipeline.predict(x_test)\n",
        "  print(i, '\\n\\nROC-AUC Score:', roc_auc_score(y_test, y_pred_simple), '\\n\\n', classification_report(y_test, y_pred_simple))"
      ],
      "metadata": {
        "colab": {
          "base_uri": "https://localhost:8080/"
        },
        "id": "LdXdxrTKZ47t",
        "outputId": "cc629c5f-8b6b-4749-f5e1-6e5adfbc36a7"
      },
      "execution_count": 22,
      "outputs": [
        {
          "output_type": "stream",
          "name": "stdout",
          "text": [
            "LogisticRegression() \n",
            "\n",
            "ROC-AUC Score: 0.7396233271515211 \n",
            "\n",
            "               precision    recall  f1-score   support\n",
            "\n",
            "           0       0.91      0.97      0.94      1405\n",
            "           1       0.77      0.51      0.61       284\n",
            "\n",
            "    accuracy                           0.89      1689\n",
            "   macro avg       0.84      0.74      0.78      1689\n",
            "weighted avg       0.88      0.89      0.88      1689\n",
            "\n",
            "KNeighborsClassifier() \n",
            "\n",
            "ROC-AUC Score: 0.7703210365395219 \n",
            "\n",
            "               precision    recall  f1-score   support\n",
            "\n",
            "           0       0.92      0.98      0.95      1405\n",
            "           1       0.85      0.56      0.68       284\n",
            "\n",
            "    accuracy                           0.91      1689\n",
            "   macro avg       0.89      0.77      0.81      1689\n",
            "weighted avg       0.91      0.91      0.90      1689\n",
            "\n",
            "DecisionTreeClassifier() \n",
            "\n",
            "ROC-AUC Score: 0.9220289709788984 \n",
            "\n",
            "               precision    recall  f1-score   support\n",
            "\n",
            "           0       0.97      0.97      0.97      1405\n",
            "           1       0.86      0.87      0.87       284\n",
            "\n",
            "    accuracy                           0.95      1689\n",
            "   macro avg       0.92      0.92      0.92      1689\n",
            "weighted avg       0.95      0.95      0.95      1689\n",
            "\n",
            "RandomForestClassifier(random_state=42) \n",
            "\n",
            "ROC-AUC Score: 0.8908074783218886 \n",
            "\n",
            "               precision    recall  f1-score   support\n",
            "\n",
            "           0       0.96      0.99      0.98      1405\n",
            "           1       0.96      0.79      0.86       284\n",
            "\n",
            "    accuracy                           0.96      1689\n",
            "   macro avg       0.96      0.89      0.92      1689\n",
            "weighted avg       0.96      0.96      0.96      1689\n",
            "\n",
            "XGBClassifier(random_state=42) \n",
            "\n",
            "ROC-AUC Score: 0.7833191318730891 \n",
            "\n",
            "               precision    recall  f1-score   support\n",
            "\n",
            "           0       0.92      0.98      0.95      1405\n",
            "           1       0.83      0.59      0.69       284\n",
            "\n",
            "    accuracy                           0.91      1689\n",
            "   macro avg       0.87      0.78      0.82      1689\n",
            "weighted avg       0.91      0.91      0.90      1689\n",
            "\n"
          ]
        }
      ]
    },
    {
      "cell_type": "markdown",
      "source": [
        "## KNN Imputer"
      ],
      "metadata": {
        "id": "yN-JoXnxdgvf"
      }
    },
    {
      "cell_type": "markdown",
      "source": [
        "Next, we will try using the KNN Imputer to fill the missing data"
      ],
      "metadata": {
        "id": "kMJrXoOP6vru"
      }
    },
    {
      "cell_type": "code",
      "source": [
        "models = [logreg, knn, dt, rf, xgb]\n",
        "score = []\n",
        "mean = []\n",
        "std = []\n",
        "\n",
        "for i in models:\n",
        "  skfold = StratifiedKFold(n_splits = 5)\n",
        "  pipeline = Pipeline([\n",
        "    ('preprocess',transformer_knn),\n",
        "    ('model',i)\n",
        "    ])\n",
        "  model_cv = cross_val_score(pipeline, x_train, y_train, cv=skfold, scoring='roc_auc')\n",
        "  score.append(model_cv)\n",
        "  mean.append(model_cv.mean())\n",
        "  std.append(model_cv.std())"
      ],
      "metadata": {
        "id": "w6Q30Er5UHx9",
        "colab": {
          "base_uri": "https://localhost:8080/"
        },
        "outputId": "b00292ac-63fd-4803-e4a8-cadb6be10645"
      },
      "execution_count": 23,
      "outputs": [
        {
          "output_type": "stream",
          "name": "stderr",
          "text": [
            "/usr/local/lib/python3.7/dist-packages/sklearn/linear_model/_logistic.py:818: ConvergenceWarning: lbfgs failed to converge (status=1):\n",
            "STOP: TOTAL NO. of ITERATIONS REACHED LIMIT.\n",
            "\n",
            "Increase the number of iterations (max_iter) or scale the data as shown in:\n",
            "    https://scikit-learn.org/stable/modules/preprocessing.html\n",
            "Please also refer to the documentation for alternative solver options:\n",
            "    https://scikit-learn.org/stable/modules/linear_model.html#logistic-regression\n",
            "  extra_warning_msg=_LOGISTIC_SOLVER_CONVERGENCE_MSG,\n"
          ]
        }
      ]
    },
    {
      "cell_type": "code",
      "source": [
        "score_array = np.array(score)\n",
        "score_array = score_array.transpose()\n",
        "df_cv_knn = pd.DataFrame(\n",
        "    data = {'Models' : ['Logistic Regression', 'KNeighbors', 'Decision Tree', 'Random Forest', 'XGBoost'], \n",
        "            'ROC-AUC Score 1' : score_array[0], \n",
        "            'ROC-AUC Score 2' : score_array[1], \n",
        "            'ROC-AUC Score 3' : score_array[2], \n",
        "            'ROC-AUC Score 4' : score_array[3], \n",
        "            'ROC-AUC Score 5' : score_array[4], \n",
        "            'ROC-AUC Score Mean' : mean, \n",
        "            'ROC-AUC Score Standard Deviation' : std})\n",
        "df_cv_knn.set_index('Models').sort_values('ROC-AUC Score Mean', ascending = False)"
      ],
      "metadata": {
        "colab": {
          "base_uri": "https://localhost:8080/",
          "height": 0
        },
        "id": "-ynY3UZeduCo",
        "outputId": "3919fa09-d57d-407d-c63c-b9fb1cb50ed8"
      },
      "execution_count": 24,
      "outputs": [
        {
          "output_type": "execute_result",
          "data": {
            "text/plain": [
              "                     ROC-AUC Score 1  ROC-AUC Score 2  ROC-AUC Score 3  \\\n",
              "Models                                                                   \n",
              "Random Forest               0.978830         0.983116         0.980176   \n",
              "XGBoost                     0.932159         0.930409         0.947001   \n",
              "KNeighbors                  0.943529         0.919230         0.916949   \n",
              "Logistic Regression         0.891894         0.889620         0.903759   \n",
              "Decision Tree               0.893717         0.864214         0.864908   \n",
              "\n",
              "                     ROC-AUC Score 4  ROC-AUC Score 5  ROC-AUC Score Mean  \\\n",
              "Models                                                                      \n",
              "Random Forest               0.964007         0.965643            0.974355   \n",
              "XGBoost                     0.928680         0.921713            0.931992   \n",
              "KNeighbors                  0.923383         0.908340            0.922286   \n",
              "Logistic Regression         0.892843         0.888699            0.893363   \n",
              "Decision Tree               0.825024         0.872542            0.864081   \n",
              "\n",
              "                     ROC-AUC Score Standard Deviation  \n",
              "Models                                                 \n",
              "Random Forest                                0.007920  \n",
              "XGBoost                                      0.008300  \n",
              "KNeighbors                                   0.011703  \n",
              "Logistic Regression                          0.005409  \n",
              "Decision Tree                                0.022253  "
            ],
            "text/html": [
              "\n",
              "  <div id=\"df-f3bc8d13-ad49-4165-9e1a-d9d46e1eabda\">\n",
              "    <div class=\"colab-df-container\">\n",
              "      <div>\n",
              "<style scoped>\n",
              "    .dataframe tbody tr th:only-of-type {\n",
              "        vertical-align: middle;\n",
              "    }\n",
              "\n",
              "    .dataframe tbody tr th {\n",
              "        vertical-align: top;\n",
              "    }\n",
              "\n",
              "    .dataframe thead th {\n",
              "        text-align: right;\n",
              "    }\n",
              "</style>\n",
              "<table border=\"1\" class=\"dataframe\">\n",
              "  <thead>\n",
              "    <tr style=\"text-align: right;\">\n",
              "      <th></th>\n",
              "      <th>ROC-AUC Score 1</th>\n",
              "      <th>ROC-AUC Score 2</th>\n",
              "      <th>ROC-AUC Score 3</th>\n",
              "      <th>ROC-AUC Score 4</th>\n",
              "      <th>ROC-AUC Score 5</th>\n",
              "      <th>ROC-AUC Score Mean</th>\n",
              "      <th>ROC-AUC Score Standard Deviation</th>\n",
              "    </tr>\n",
              "    <tr>\n",
              "      <th>Models</th>\n",
              "      <th></th>\n",
              "      <th></th>\n",
              "      <th></th>\n",
              "      <th></th>\n",
              "      <th></th>\n",
              "      <th></th>\n",
              "      <th></th>\n",
              "    </tr>\n",
              "  </thead>\n",
              "  <tbody>\n",
              "    <tr>\n",
              "      <th>Random Forest</th>\n",
              "      <td>0.978830</td>\n",
              "      <td>0.983116</td>\n",
              "      <td>0.980176</td>\n",
              "      <td>0.964007</td>\n",
              "      <td>0.965643</td>\n",
              "      <td>0.974355</td>\n",
              "      <td>0.007920</td>\n",
              "    </tr>\n",
              "    <tr>\n",
              "      <th>XGBoost</th>\n",
              "      <td>0.932159</td>\n",
              "      <td>0.930409</td>\n",
              "      <td>0.947001</td>\n",
              "      <td>0.928680</td>\n",
              "      <td>0.921713</td>\n",
              "      <td>0.931992</td>\n",
              "      <td>0.008300</td>\n",
              "    </tr>\n",
              "    <tr>\n",
              "      <th>KNeighbors</th>\n",
              "      <td>0.943529</td>\n",
              "      <td>0.919230</td>\n",
              "      <td>0.916949</td>\n",
              "      <td>0.923383</td>\n",
              "      <td>0.908340</td>\n",
              "      <td>0.922286</td>\n",
              "      <td>0.011703</td>\n",
              "    </tr>\n",
              "    <tr>\n",
              "      <th>Logistic Regression</th>\n",
              "      <td>0.891894</td>\n",
              "      <td>0.889620</td>\n",
              "      <td>0.903759</td>\n",
              "      <td>0.892843</td>\n",
              "      <td>0.888699</td>\n",
              "      <td>0.893363</td>\n",
              "      <td>0.005409</td>\n",
              "    </tr>\n",
              "    <tr>\n",
              "      <th>Decision Tree</th>\n",
              "      <td>0.893717</td>\n",
              "      <td>0.864214</td>\n",
              "      <td>0.864908</td>\n",
              "      <td>0.825024</td>\n",
              "      <td>0.872542</td>\n",
              "      <td>0.864081</td>\n",
              "      <td>0.022253</td>\n",
              "    </tr>\n",
              "  </tbody>\n",
              "</table>\n",
              "</div>\n",
              "      <button class=\"colab-df-convert\" onclick=\"convertToInteractive('df-f3bc8d13-ad49-4165-9e1a-d9d46e1eabda')\"\n",
              "              title=\"Convert this dataframe to an interactive table.\"\n",
              "              style=\"display:none;\">\n",
              "        \n",
              "  <svg xmlns=\"http://www.w3.org/2000/svg\" height=\"24px\"viewBox=\"0 0 24 24\"\n",
              "       width=\"24px\">\n",
              "    <path d=\"M0 0h24v24H0V0z\" fill=\"none\"/>\n",
              "    <path d=\"M18.56 5.44l.94 2.06.94-2.06 2.06-.94-2.06-.94-.94-2.06-.94 2.06-2.06.94zm-11 1L8.5 8.5l.94-2.06 2.06-.94-2.06-.94L8.5 2.5l-.94 2.06-2.06.94zm10 10l.94 2.06.94-2.06 2.06-.94-2.06-.94-.94-2.06-.94 2.06-2.06.94z\"/><path d=\"M17.41 7.96l-1.37-1.37c-.4-.4-.92-.59-1.43-.59-.52 0-1.04.2-1.43.59L10.3 9.45l-7.72 7.72c-.78.78-.78 2.05 0 2.83L4 21.41c.39.39.9.59 1.41.59.51 0 1.02-.2 1.41-.59l7.78-7.78 2.81-2.81c.8-.78.8-2.07 0-2.86zM5.41 20L4 18.59l7.72-7.72 1.47 1.35L5.41 20z\"/>\n",
              "  </svg>\n",
              "      </button>\n",
              "      \n",
              "  <style>\n",
              "    .colab-df-container {\n",
              "      display:flex;\n",
              "      flex-wrap:wrap;\n",
              "      gap: 12px;\n",
              "    }\n",
              "\n",
              "    .colab-df-convert {\n",
              "      background-color: #E8F0FE;\n",
              "      border: none;\n",
              "      border-radius: 50%;\n",
              "      cursor: pointer;\n",
              "      display: none;\n",
              "      fill: #1967D2;\n",
              "      height: 32px;\n",
              "      padding: 0 0 0 0;\n",
              "      width: 32px;\n",
              "    }\n",
              "\n",
              "    .colab-df-convert:hover {\n",
              "      background-color: #E2EBFA;\n",
              "      box-shadow: 0px 1px 2px rgba(60, 64, 67, 0.3), 0px 1px 3px 1px rgba(60, 64, 67, 0.15);\n",
              "      fill: #174EA6;\n",
              "    }\n",
              "\n",
              "    [theme=dark] .colab-df-convert {\n",
              "      background-color: #3B4455;\n",
              "      fill: #D2E3FC;\n",
              "    }\n",
              "\n",
              "    [theme=dark] .colab-df-convert:hover {\n",
              "      background-color: #434B5C;\n",
              "      box-shadow: 0px 1px 3px 1px rgba(0, 0, 0, 0.15);\n",
              "      filter: drop-shadow(0px 1px 2px rgba(0, 0, 0, 0.3));\n",
              "      fill: #FFFFFF;\n",
              "    }\n",
              "  </style>\n",
              "\n",
              "      <script>\n",
              "        const buttonEl =\n",
              "          document.querySelector('#df-f3bc8d13-ad49-4165-9e1a-d9d46e1eabda button.colab-df-convert');\n",
              "        buttonEl.style.display =\n",
              "          google.colab.kernel.accessAllowed ? 'block' : 'none';\n",
              "\n",
              "        async function convertToInteractive(key) {\n",
              "          const element = document.querySelector('#df-f3bc8d13-ad49-4165-9e1a-d9d46e1eabda');\n",
              "          const dataTable =\n",
              "            await google.colab.kernel.invokeFunction('convertToInteractive',\n",
              "                                                     [key], {});\n",
              "          if (!dataTable) return;\n",
              "\n",
              "          const docLinkHtml = 'Like what you see? Visit the ' +\n",
              "            '<a target=\"_blank\" href=https://colab.research.google.com/notebooks/data_table.ipynb>data table notebook</a>'\n",
              "            + ' to learn more about interactive tables.';\n",
              "          element.innerHTML = '';\n",
              "          dataTable['output_type'] = 'display_data';\n",
              "          await google.colab.output.renderOutput(dataTable, element);\n",
              "          const docLink = document.createElement('div');\n",
              "          docLink.innerHTML = docLinkHtml;\n",
              "          element.appendChild(docLink);\n",
              "        }\n",
              "      </script>\n",
              "    </div>\n",
              "  </div>\n",
              "  "
            ]
          },
          "metadata": {},
          "execution_count": 24
        }
      ]
    },
    {
      "cell_type": "code",
      "source": [
        "for i in models:\n",
        "  skfold = StratifiedKFold(n_splits=5)\n",
        "  pipeline = Pipeline([\n",
        "      ('preprocess',transformer_knn),\n",
        "      ('model',i)\n",
        "      ])\n",
        "  pipeline.fit(x_train, y_train)\n",
        "  y_pred_knn = pipeline.predict(x_test)\n",
        "  print(i, '\\nROC-AUC Score:', roc_auc_score(y_test, y_pred_knn), '\\n', classification_report(y_test, y_pred_knn))"
      ],
      "metadata": {
        "colab": {
          "base_uri": "https://localhost:8080/"
        },
        "outputId": "5f264a8b-e7b9-4ef1-f2a0-dd3d32908abe",
        "id": "_sDk8Wx4UJ3d"
      },
      "execution_count": 25,
      "outputs": [
        {
          "output_type": "stream",
          "name": "stdout",
          "text": [
            "LogisticRegression() \n",
            "ROC-AUC Score: 0.7325622775800713 \n",
            "               precision    recall  f1-score   support\n",
            "\n",
            "           0       0.91      0.97      0.93      1405\n",
            "           1       0.74      0.50      0.60       284\n",
            "\n",
            "    accuracy                           0.89      1689\n",
            "   macro avg       0.82      0.73      0.77      1689\n",
            "weighted avg       0.88      0.89      0.88      1689\n",
            "\n",
            "KNeighborsClassifier() \n",
            "ROC-AUC Score: 0.7745351110220039 \n",
            "               precision    recall  f1-score   support\n",
            "\n",
            "           0       0.92      0.98      0.95      1405\n",
            "           1       0.84      0.57      0.68       284\n",
            "\n",
            "    accuracy                           0.91      1689\n",
            "   macro avg       0.88      0.77      0.81      1689\n",
            "weighted avg       0.91      0.91      0.90      1689\n",
            "\n",
            "DecisionTreeClassifier() \n",
            "ROC-AUC Score: 0.9146308455716505 \n",
            "               precision    recall  f1-score   support\n",
            "\n",
            "           0       0.97      0.97      0.97      1405\n",
            "           1       0.85      0.86      0.86       284\n",
            "\n",
            "    accuracy                           0.95      1689\n",
            "   macro avg       0.91      0.91      0.91      1689\n",
            "weighted avg       0.95      0.95      0.95      1689\n",
            "\n",
            "RandomForestClassifier(random_state=42) \n",
            "ROC-AUC Score: 0.8834281489649641 \n",
            "               precision    recall  f1-score   support\n",
            "\n",
            "           0       0.96      1.00      0.98      1405\n",
            "           1       0.97      0.77      0.86       284\n",
            "\n",
            "    accuracy                           0.96      1689\n",
            "   macro avg       0.96      0.88      0.92      1689\n",
            "weighted avg       0.96      0.96      0.96      1689\n",
            "\n",
            "XGBClassifier(random_state=42) \n",
            "ROC-AUC Score: 0.779105057390607 \n",
            "               precision    recall  f1-score   support\n",
            "\n",
            "           0       0.92      0.98      0.95      1405\n",
            "           1       0.84      0.58      0.69       284\n",
            "\n",
            "    accuracy                           0.91      1689\n",
            "   macro avg       0.88      0.78      0.82      1689\n",
            "weighted avg       0.91      0.91      0.90      1689\n",
            "\n"
          ]
        }
      ]
    },
    {
      "cell_type": "markdown",
      "source": [
        "## Iterative Imputer"
      ],
      "metadata": {
        "id": "p-bmTlo_egzZ"
      }
    },
    {
      "cell_type": "markdown",
      "source": [
        "And next, we will try using the iterative imputer"
      ],
      "metadata": {
        "id": "XmAqc17660vL"
      }
    },
    {
      "cell_type": "code",
      "source": [
        "models = [logreg, knn, dt, rf, xgb]\n",
        "score = []\n",
        "mean = []\n",
        "std = []\n",
        "\n",
        "for i in models:\n",
        "  skfold = StratifiedKFold(n_splits=5)\n",
        "  pipeline = Pipeline([\n",
        "    ('preprocess',transformer_iter),\n",
        "    ('model',i)\n",
        "    ])\n",
        "  model_cv = cross_val_score(pipeline, x_train, y_train, cv=skfold, scoring='roc_auc')\n",
        "  score.append(model_cv)\n",
        "  mean.append(model_cv.mean())\n",
        "  std.append(model_cv.std())"
      ],
      "metadata": {
        "id": "At6aQQmBd3fI",
        "colab": {
          "base_uri": "https://localhost:8080/"
        },
        "outputId": "719dab0d-5ba0-44b4-cc8a-743a64fa4b04"
      },
      "execution_count": 26,
      "outputs": [
        {
          "output_type": "stream",
          "name": "stderr",
          "text": [
            "/usr/local/lib/python3.7/dist-packages/sklearn/linear_model/_logistic.py:818: ConvergenceWarning: lbfgs failed to converge (status=1):\n",
            "STOP: TOTAL NO. of ITERATIONS REACHED LIMIT.\n",
            "\n",
            "Increase the number of iterations (max_iter) or scale the data as shown in:\n",
            "    https://scikit-learn.org/stable/modules/preprocessing.html\n",
            "Please also refer to the documentation for alternative solver options:\n",
            "    https://scikit-learn.org/stable/modules/linear_model.html#logistic-regression\n",
            "  extra_warning_msg=_LOGISTIC_SOLVER_CONVERGENCE_MSG,\n",
            "/usr/local/lib/python3.7/dist-packages/sklearn/linear_model/_logistic.py:818: ConvergenceWarning: lbfgs failed to converge (status=1):\n",
            "STOP: TOTAL NO. of ITERATIONS REACHED LIMIT.\n",
            "\n",
            "Increase the number of iterations (max_iter) or scale the data as shown in:\n",
            "    https://scikit-learn.org/stable/modules/preprocessing.html\n",
            "Please also refer to the documentation for alternative solver options:\n",
            "    https://scikit-learn.org/stable/modules/linear_model.html#logistic-regression\n",
            "  extra_warning_msg=_LOGISTIC_SOLVER_CONVERGENCE_MSG,\n"
          ]
        }
      ]
    },
    {
      "cell_type": "code",
      "source": [
        "score_array = np.array(score)\n",
        "score_array = score_array.transpose()\n",
        "df_cv_iter = pd.DataFrame(\n",
        "    data = {'Models' : ['Logistic Regression', 'KNeighbors', 'Decision Tree', 'Random Forest', 'XGBoost'], \n",
        "            'ROC-AUC Score 1' : score_array[0], \n",
        "            'ROC-AUC Score 2' : score_array[1], \n",
        "            'ROC-AUC Score 3' : score_array[2], \n",
        "            'ROC-AUC Score 4' : score_array[3], \n",
        "            'ROC-AUC Score 5' : score_array[4], \n",
        "            'ROC-AUC Score Mean' : mean, \n",
        "            'ROC-AUC Score Standard Deviation' : std})\n",
        "df_cv_iter.set_index('Models').sort_values('ROC-AUC Score Mean', ascending = False)"
      ],
      "metadata": {
        "id": "aVRsFluEd6kf",
        "colab": {
          "base_uri": "https://localhost:8080/",
          "height": 238
        },
        "outputId": "96f1b78a-a296-4932-e103-50ed2f06e070"
      },
      "execution_count": 27,
      "outputs": [
        {
          "output_type": "execute_result",
          "data": {
            "text/plain": [
              "                     ROC-AUC Score 1  ROC-AUC Score 2  ROC-AUC Score 3  \\\n",
              "Models                                                                   \n",
              "Random Forest               0.982997         0.978046         0.980922   \n",
              "XGBoost                     0.932675         0.933793         0.947449   \n",
              "KNeighbors                  0.939420         0.921390         0.916484   \n",
              "Logistic Regression         0.889522         0.888823         0.904827   \n",
              "Decision Tree               0.880966         0.866523         0.852161   \n",
              "\n",
              "                     ROC-AUC Score 4  ROC-AUC Score 5  ROC-AUC Score Mean  \\\n",
              "Models                                                                      \n",
              "Random Forest               0.970889         0.956764            0.973924   \n",
              "XGBoost                     0.928267         0.923331            0.933103   \n",
              "KNeighbors                  0.922780         0.908965            0.921808   \n",
              "Logistic Regression         0.895977         0.890949            0.894020   \n",
              "Decision Tree               0.846226         0.867141            0.862604   \n",
              "\n",
              "                     ROC-AUC Score Standard Deviation  \n",
              "Models                                                 \n",
              "Random Forest                                0.009507  \n",
              "XGBoost                                      0.008066  \n",
              "KNeighbors                                   0.010046  \n",
              "Logistic Regression                          0.005955  \n",
              "Decision Tree                                0.012251  "
            ],
            "text/html": [
              "\n",
              "  <div id=\"df-ef89b668-b9c5-4196-be1c-2f9277096312\">\n",
              "    <div class=\"colab-df-container\">\n",
              "      <div>\n",
              "<style scoped>\n",
              "    .dataframe tbody tr th:only-of-type {\n",
              "        vertical-align: middle;\n",
              "    }\n",
              "\n",
              "    .dataframe tbody tr th {\n",
              "        vertical-align: top;\n",
              "    }\n",
              "\n",
              "    .dataframe thead th {\n",
              "        text-align: right;\n",
              "    }\n",
              "</style>\n",
              "<table border=\"1\" class=\"dataframe\">\n",
              "  <thead>\n",
              "    <tr style=\"text-align: right;\">\n",
              "      <th></th>\n",
              "      <th>ROC-AUC Score 1</th>\n",
              "      <th>ROC-AUC Score 2</th>\n",
              "      <th>ROC-AUC Score 3</th>\n",
              "      <th>ROC-AUC Score 4</th>\n",
              "      <th>ROC-AUC Score 5</th>\n",
              "      <th>ROC-AUC Score Mean</th>\n",
              "      <th>ROC-AUC Score Standard Deviation</th>\n",
              "    </tr>\n",
              "    <tr>\n",
              "      <th>Models</th>\n",
              "      <th></th>\n",
              "      <th></th>\n",
              "      <th></th>\n",
              "      <th></th>\n",
              "      <th></th>\n",
              "      <th></th>\n",
              "      <th></th>\n",
              "    </tr>\n",
              "  </thead>\n",
              "  <tbody>\n",
              "    <tr>\n",
              "      <th>Random Forest</th>\n",
              "      <td>0.982997</td>\n",
              "      <td>0.978046</td>\n",
              "      <td>0.980922</td>\n",
              "      <td>0.970889</td>\n",
              "      <td>0.956764</td>\n",
              "      <td>0.973924</td>\n",
              "      <td>0.009507</td>\n",
              "    </tr>\n",
              "    <tr>\n",
              "      <th>XGBoost</th>\n",
              "      <td>0.932675</td>\n",
              "      <td>0.933793</td>\n",
              "      <td>0.947449</td>\n",
              "      <td>0.928267</td>\n",
              "      <td>0.923331</td>\n",
              "      <td>0.933103</td>\n",
              "      <td>0.008066</td>\n",
              "    </tr>\n",
              "    <tr>\n",
              "      <th>KNeighbors</th>\n",
              "      <td>0.939420</td>\n",
              "      <td>0.921390</td>\n",
              "      <td>0.916484</td>\n",
              "      <td>0.922780</td>\n",
              "      <td>0.908965</td>\n",
              "      <td>0.921808</td>\n",
              "      <td>0.010046</td>\n",
              "    </tr>\n",
              "    <tr>\n",
              "      <th>Logistic Regression</th>\n",
              "      <td>0.889522</td>\n",
              "      <td>0.888823</td>\n",
              "      <td>0.904827</td>\n",
              "      <td>0.895977</td>\n",
              "      <td>0.890949</td>\n",
              "      <td>0.894020</td>\n",
              "      <td>0.005955</td>\n",
              "    </tr>\n",
              "    <tr>\n",
              "      <th>Decision Tree</th>\n",
              "      <td>0.880966</td>\n",
              "      <td>0.866523</td>\n",
              "      <td>0.852161</td>\n",
              "      <td>0.846226</td>\n",
              "      <td>0.867141</td>\n",
              "      <td>0.862604</td>\n",
              "      <td>0.012251</td>\n",
              "    </tr>\n",
              "  </tbody>\n",
              "</table>\n",
              "</div>\n",
              "      <button class=\"colab-df-convert\" onclick=\"convertToInteractive('df-ef89b668-b9c5-4196-be1c-2f9277096312')\"\n",
              "              title=\"Convert this dataframe to an interactive table.\"\n",
              "              style=\"display:none;\">\n",
              "        \n",
              "  <svg xmlns=\"http://www.w3.org/2000/svg\" height=\"24px\"viewBox=\"0 0 24 24\"\n",
              "       width=\"24px\">\n",
              "    <path d=\"M0 0h24v24H0V0z\" fill=\"none\"/>\n",
              "    <path d=\"M18.56 5.44l.94 2.06.94-2.06 2.06-.94-2.06-.94-.94-2.06-.94 2.06-2.06.94zm-11 1L8.5 8.5l.94-2.06 2.06-.94-2.06-.94L8.5 2.5l-.94 2.06-2.06.94zm10 10l.94 2.06.94-2.06 2.06-.94-2.06-.94-.94-2.06-.94 2.06-2.06.94z\"/><path d=\"M17.41 7.96l-1.37-1.37c-.4-.4-.92-.59-1.43-.59-.52 0-1.04.2-1.43.59L10.3 9.45l-7.72 7.72c-.78.78-.78 2.05 0 2.83L4 21.41c.39.39.9.59 1.41.59.51 0 1.02-.2 1.41-.59l7.78-7.78 2.81-2.81c.8-.78.8-2.07 0-2.86zM5.41 20L4 18.59l7.72-7.72 1.47 1.35L5.41 20z\"/>\n",
              "  </svg>\n",
              "      </button>\n",
              "      \n",
              "  <style>\n",
              "    .colab-df-container {\n",
              "      display:flex;\n",
              "      flex-wrap:wrap;\n",
              "      gap: 12px;\n",
              "    }\n",
              "\n",
              "    .colab-df-convert {\n",
              "      background-color: #E8F0FE;\n",
              "      border: none;\n",
              "      border-radius: 50%;\n",
              "      cursor: pointer;\n",
              "      display: none;\n",
              "      fill: #1967D2;\n",
              "      height: 32px;\n",
              "      padding: 0 0 0 0;\n",
              "      width: 32px;\n",
              "    }\n",
              "\n",
              "    .colab-df-convert:hover {\n",
              "      background-color: #E2EBFA;\n",
              "      box-shadow: 0px 1px 2px rgba(60, 64, 67, 0.3), 0px 1px 3px 1px rgba(60, 64, 67, 0.15);\n",
              "      fill: #174EA6;\n",
              "    }\n",
              "\n",
              "    [theme=dark] .colab-df-convert {\n",
              "      background-color: #3B4455;\n",
              "      fill: #D2E3FC;\n",
              "    }\n",
              "\n",
              "    [theme=dark] .colab-df-convert:hover {\n",
              "      background-color: #434B5C;\n",
              "      box-shadow: 0px 1px 3px 1px rgba(0, 0, 0, 0.15);\n",
              "      filter: drop-shadow(0px 1px 2px rgba(0, 0, 0, 0.3));\n",
              "      fill: #FFFFFF;\n",
              "    }\n",
              "  </style>\n",
              "\n",
              "      <script>\n",
              "        const buttonEl =\n",
              "          document.querySelector('#df-ef89b668-b9c5-4196-be1c-2f9277096312 button.colab-df-convert');\n",
              "        buttonEl.style.display =\n",
              "          google.colab.kernel.accessAllowed ? 'block' : 'none';\n",
              "\n",
              "        async function convertToInteractive(key) {\n",
              "          const element = document.querySelector('#df-ef89b668-b9c5-4196-be1c-2f9277096312');\n",
              "          const dataTable =\n",
              "            await google.colab.kernel.invokeFunction('convertToInteractive',\n",
              "                                                     [key], {});\n",
              "          if (!dataTable) return;\n",
              "\n",
              "          const docLinkHtml = 'Like what you see? Visit the ' +\n",
              "            '<a target=\"_blank\" href=https://colab.research.google.com/notebooks/data_table.ipynb>data table notebook</a>'\n",
              "            + ' to learn more about interactive tables.';\n",
              "          element.innerHTML = '';\n",
              "          dataTable['output_type'] = 'display_data';\n",
              "          await google.colab.output.renderOutput(dataTable, element);\n",
              "          const docLink = document.createElement('div');\n",
              "          docLink.innerHTML = docLinkHtml;\n",
              "          element.appendChild(docLink);\n",
              "        }\n",
              "      </script>\n",
              "    </div>\n",
              "  </div>\n",
              "  "
            ]
          },
          "metadata": {},
          "execution_count": 27
        }
      ]
    },
    {
      "cell_type": "code",
      "source": [
        "for i in models:\n",
        "  skfold = StratifiedKFold(n_splits=5)\n",
        "  pipeline = Pipeline([\n",
        "      ('preprocess',transformer_iter),\n",
        "      ('model',i)\n",
        "      ])\n",
        "  pipeline.fit(x_train, y_train)\n",
        "  y_pred = pipeline.predict(x_test)\n",
        "  print(i, '\\nROC-AUC Score:', roc_auc_score(y_test, y_pred), '\\n', classification_report(y_test, y_pred))"
      ],
      "metadata": {
        "colab": {
          "base_uri": "https://localhost:8080/"
        },
        "id": "kIKR3ltueB2y",
        "outputId": "afd099a8-54cf-4861-bc23-ffcf21bc91ee"
      },
      "execution_count": 28,
      "outputs": [
        {
          "output_type": "stream",
          "name": "stderr",
          "text": [
            "/usr/local/lib/python3.7/dist-packages/sklearn/linear_model/_logistic.py:818: ConvergenceWarning: lbfgs failed to converge (status=1):\n",
            "STOP: TOTAL NO. of ITERATIONS REACHED LIMIT.\n",
            "\n",
            "Increase the number of iterations (max_iter) or scale the data as shown in:\n",
            "    https://scikit-learn.org/stable/modules/preprocessing.html\n",
            "Please also refer to the documentation for alternative solver options:\n",
            "    https://scikit-learn.org/stable/modules/linear_model.html#logistic-regression\n",
            "  extra_warning_msg=_LOGISTIC_SOLVER_CONVERGENCE_MSG,\n"
          ]
        },
        {
          "output_type": "stream",
          "name": "stdout",
          "text": [
            "LogisticRegression() \n",
            "ROC-AUC Score: 0.7346787128464739 \n",
            "               precision    recall  f1-score   support\n",
            "\n",
            "           0       0.91      0.97      0.93      1405\n",
            "           1       0.75      0.50      0.60       284\n",
            "\n",
            "    accuracy                           0.89      1689\n",
            "   macro avg       0.83      0.73      0.77      1689\n",
            "weighted avg       0.88      0.89      0.88      1689\n",
            "\n",
            "KNeighborsClassifier() \n",
            "ROC-AUC Score: 0.7773632900606486 \n",
            "               precision    recall  f1-score   support\n",
            "\n",
            "           0       0.92      0.98      0.95      1405\n",
            "           1       0.86      0.57      0.69       284\n",
            "\n",
            "    accuracy                           0.91      1689\n",
            "   macro avg       0.89      0.78      0.82      1689\n",
            "weighted avg       0.91      0.91      0.91      1689\n",
            "\n",
            "DecisionTreeClassifier() \n",
            "ROC-AUC Score: 0.9177961004460928 \n",
            "               precision    recall  f1-score   support\n",
            "\n",
            "           0       0.97      0.97      0.97      1405\n",
            "           1       0.85      0.87      0.86       284\n",
            "\n",
            "    accuracy                           0.95      1689\n",
            "   macro avg       0.91      0.92      0.91      1689\n",
            "weighted avg       0.95      0.95      0.95      1689\n",
            "\n",
            "RandomForestClassifier(random_state=42) \n",
            "ROC-AUC Score: 0.8767417673299585 \n",
            "               precision    recall  f1-score   support\n",
            "\n",
            "           0       0.95      1.00      0.97      1405\n",
            "           1       0.98      0.76      0.85       284\n",
            "\n",
            "    accuracy                           0.96      1689\n",
            "   macro avg       0.97      0.88      0.91      1689\n",
            "weighted avg       0.96      0.96      0.95      1689\n",
            "\n",
            "XGBClassifier(random_state=42) \n",
            "ROC-AUC Score: 0.7794609292767279 \n",
            "               precision    recall  f1-score   support\n",
            "\n",
            "           0       0.92      0.98      0.95      1405\n",
            "           1       0.84      0.58      0.69       284\n",
            "\n",
            "    accuracy                           0.91      1689\n",
            "   macro avg       0.88      0.78      0.82      1689\n",
            "weighted avg       0.91      0.91      0.90      1689\n",
            "\n"
          ]
        }
      ]
    },
    {
      "cell_type": "markdown",
      "source": [
        "Also, regarding the model selection, for all of the imputer, the model that produces the highest ROC-AUC score average for training data is the RandomForestClassifier, and for the test data prediction, the DecisionTreeClassifier does have a higher ROC-AUC Score, but, the overall classification metrics is better in the RandomForestClassifier, with the exception of the positive recall. Also since the training score of the decision tree is lower than the test score.\n",
        "\n",
        "Thus, for this dataset, the model that will be used is the RandomForestClassifier"
      ],
      "metadata": {
        "id": "fab8n7fwWcIe"
      }
    },
    {
      "cell_type": "code",
      "source": [
        "pipeline_simple = Pipeline([\n",
        "    ('preprocess',transformer_simple2),\n",
        "    ('model', rf)\n",
        "    ])\n",
        "pipeline_knn = Pipeline([\n",
        "    ('preprocess',transformer_knn),\n",
        "    ('model', rf)\n",
        "    ])\n",
        "pipeline_iter = Pipeline([\n",
        "    ('preprocess',transformer_iter),\n",
        "    ('model', rf)\n",
        "    ])\n",
        "pipeline_simple.fit(x_train, y_train)\n",
        "y_pred_simple = pipeline_simple.predict(x_test)\n",
        "pipeline_knn.fit(x_train, y_train)\n",
        "y_pred_knn = pipeline_knn.predict(x_test)\n",
        "pipeline_iter.fit(x_train, y_train)\n",
        "y_pred_iter = pipeline_iter.predict(x_test)\n",
        "print('Simple Imputer\\nROC-AUC Score:', roc_auc_score(y_test, y_pred_simple), '\\n', classification_report(y_test, y_pred_simple))\n",
        "print('KNN Imputer\\nROC-AUC Score:', roc_auc_score(y_test, y_pred_knn), '\\n', classification_report(y_test, y_pred_knn))\n",
        "print('Iterative Imputer\\nROC-AUC Score:', roc_auc_score(y_test, y_pred_iter), '\\n', classification_report(y_test, y_pred_iter))"
      ],
      "metadata": {
        "id": "wP5M-3wdAZlg",
        "colab": {
          "base_uri": "https://localhost:8080/"
        },
        "outputId": "5960ef83-0e23-4297-e56b-c37875aed508"
      },
      "execution_count": 60,
      "outputs": [
        {
          "output_type": "stream",
          "name": "stdout",
          "text": [
            "Simple Imputer\n",
            "ROC-AUC Score: 0.8908074783218886 \n",
            "               precision    recall  f1-score   support\n",
            "\n",
            "           0       0.96      0.99      0.98      1405\n",
            "           1       0.96      0.79      0.86       284\n",
            "\n",
            "    accuracy                           0.96      1689\n",
            "   macro avg       0.96      0.89      0.92      1689\n",
            "weighted avg       0.96      0.96      0.96      1689\n",
            "\n",
            "KNN Imputer\n",
            "ROC-AUC Score: 0.8834281489649641 \n",
            "               precision    recall  f1-score   support\n",
            "\n",
            "           0       0.96      1.00      0.98      1405\n",
            "           1       0.97      0.77      0.86       284\n",
            "\n",
            "    accuracy                           0.96      1689\n",
            "   macro avg       0.96      0.88      0.92      1689\n",
            "weighted avg       0.96      0.96      0.96      1689\n",
            "\n",
            "Iterative Imputer\n",
            "ROC-AUC Score: 0.8767417673299585 \n",
            "               precision    recall  f1-score   support\n",
            "\n",
            "           0       0.95      1.00      0.97      1405\n",
            "           1       0.98      0.76      0.85       284\n",
            "\n",
            "    accuracy                           0.96      1689\n",
            "   macro avg       0.97      0.88      0.91      1689\n",
            "weighted avg       0.96      0.96      0.95      1689\n",
            "\n"
          ]
        }
      ]
    },
    {
      "cell_type": "markdown",
      "source": [
        "It seems that overall, the performance of the models are better using the simple imputer, thus, we will use the simple imputer to fill all the missing values"
      ],
      "metadata": {
        "id": "gVk2XefkWLQF"
      }
    },
    {
      "cell_type": "markdown",
      "source": [
        "# Testing New Features"
      ],
      "metadata": {
        "id": "g6Rlf1FI-oFX"
      }
    },
    {
      "cell_type": "markdown",
      "source": [
        "Next, we will try to create new features and add them to the dataframe"
      ],
      "metadata": {
        "id": "q3c0MF0R-svP"
      }
    },
    {
      "cell_type": "code",
      "source": [
        "df_model_new = df_model.copy()"
      ],
      "metadata": {
        "id": "gd64cu3m-1_B"
      },
      "execution_count": 30,
      "outputs": []
    },
    {
      "cell_type": "code",
      "source": [
        "df_model_new['CashbackPerTenure'] = df_model['CashbackAmount']/df_model['Tenure']\n",
        "df_model_new['OrderCoupon'] = df_model['OrderCount']/df_model['CouponUsed']"
      ],
      "metadata": {
        "id": "NYoY9Os9-078"
      },
      "execution_count": 31,
      "outputs": []
    },
    {
      "cell_type": "code",
      "source": [
        "df_model_new.replace([np.inf, -np.inf], 0, inplace=True)"
      ],
      "metadata": {
        "id": "ARupMYIoEF4W"
      },
      "execution_count": 51,
      "outputs": []
    },
    {
      "cell_type": "code",
      "source": [
        "new_numerical_var = ['Tenure', 'WarehouseToHome', 'HourSpendOnApp', 'NumberOfDeviceRegistered', 'NumberOfAddress', 'OrderAmountHikeFromlastYear', 'CouponUsed', 'OrderCount', 'DaySinceLastOrder', 'CashbackAmount', 'CashbackPerTenure', 'OrderCoupon']"
      ],
      "metadata": {
        "id": "sI3qkO9a-6Bx"
      },
      "execution_count": 52,
      "outputs": []
    },
    {
      "cell_type": "code",
      "source": [
        "transformer_simple_new = ColumnTransformer([\n",
        "    ('numtransformer', numeric_transformer, new_numerical_var),\n",
        "    ('onehot', OneHotEncoder(), cat_var),\n",
        "], remainder='passthrough')"
      ],
      "metadata": {
        "id": "2Hr3XmTB_BnE"
      },
      "execution_count": 53,
      "outputs": []
    },
    {
      "cell_type": "code",
      "source": [
        "x_new = df_model_new.drop('Churn', axis = 1)\n",
        "y_new = df_model_new['Churn']"
      ],
      "metadata": {
        "id": "bjcCSHrW_4R6"
      },
      "execution_count": 54,
      "outputs": []
    },
    {
      "cell_type": "code",
      "source": [
        "x_train_new, x_test_new, y_train_new, y_test_new = train_test_split(\n",
        "    x_new,\n",
        "    y_new,\n",
        "    test_size = 0.3,\n",
        "    random_state = 1,\n",
        "    stratify = y_new\n",
        ")"
      ],
      "metadata": {
        "id": "wue0kspY_y04"
      },
      "execution_count": 55,
      "outputs": []
    },
    {
      "cell_type": "code",
      "source": [
        "models = [logreg, knn, dt, rf, xgb]\n",
        "score = []\n",
        "mean = []\n",
        "std = []\n",
        "\n",
        "for i in models:\n",
        "  skfold = StratifiedKFold(n_splits=5)\n",
        "  pipeline = Pipeline([\n",
        "    ('preprocess', transformer_simple_new),\n",
        "    ('model', i)\n",
        "    ])\n",
        "  model_cv = cross_val_score(pipeline, x_train_new, y_train_new, cv = skfold, scoring = 'roc_auc')\n",
        "  score.append(model_cv)\n",
        "  mean.append(model_cv.mean())\n",
        "  std.append(model_cv.std())"
      ],
      "metadata": {
        "id": "JXlo7rc__kKH",
        "colab": {
          "base_uri": "https://localhost:8080/"
        },
        "outputId": "393fa869-734e-4810-e3d4-ac28b6f155d7"
      },
      "execution_count": 56,
      "outputs": [
        {
          "output_type": "stream",
          "name": "stderr",
          "text": [
            "/usr/local/lib/python3.7/dist-packages/sklearn/linear_model/_logistic.py:818: ConvergenceWarning: lbfgs failed to converge (status=1):\n",
            "STOP: TOTAL NO. of ITERATIONS REACHED LIMIT.\n",
            "\n",
            "Increase the number of iterations (max_iter) or scale the data as shown in:\n",
            "    https://scikit-learn.org/stable/modules/preprocessing.html\n",
            "Please also refer to the documentation for alternative solver options:\n",
            "    https://scikit-learn.org/stable/modules/linear_model.html#logistic-regression\n",
            "  extra_warning_msg=_LOGISTIC_SOLVER_CONVERGENCE_MSG,\n"
          ]
        }
      ]
    },
    {
      "cell_type": "code",
      "source": [
        "score_array = np.array(score)\n",
        "score_array = score_array.transpose()\n",
        "df_cv_new = pd.DataFrame(\n",
        "    data = {'Models' : ['Logistic Regression', 'KNeighbors', 'Decision Tree', 'Random Forest', 'XGBoost'], \n",
        "            'ROC-AUC Score 1' : score_array[0], \n",
        "            'ROC-AUC Score 2' : score_array[1], \n",
        "            'ROC-AUC Score 3' : score_array[2], \n",
        "            'ROC-AUC Score 4' : score_array[3], \n",
        "            'ROC-AUC Score 5' : score_array[4], \n",
        "            'ROC-AUC Score Mean' : mean, \n",
        "            'ROC-AUC Score Standard Deviation' : std})\n",
        "df_cv_new.set_index('Models').sort_values('ROC-AUC Score Mean', ascending = False)"
      ],
      "metadata": {
        "id": "1XZgtxfJ_r1w",
        "colab": {
          "base_uri": "https://localhost:8080/",
          "height": 238
        },
        "outputId": "6fb49aa7-7e60-4df6-aa24-9c04735f27b7"
      },
      "execution_count": 57,
      "outputs": [
        {
          "output_type": "execute_result",
          "data": {
            "text/plain": [
              "                     ROC-AUC Score 1  ROC-AUC Score 2  ROC-AUC Score 3  \\\n",
              "Models                                                                   \n",
              "Random Forest               0.978309         0.976528         0.977541   \n",
              "XGBoost                     0.936721         0.933423         0.945348   \n",
              "KNeighbors                  0.902112         0.899200         0.911686   \n",
              "Logistic Regression         0.885900         0.888061         0.902864   \n",
              "Decision Tree               0.859779         0.876340         0.860500   \n",
              "\n",
              "                     ROC-AUC Score 4  ROC-AUC Score 5  ROC-AUC Score Mean  \\\n",
              "Models                                                                      \n",
              "Random Forest               0.958750         0.964157            0.971057   \n",
              "XGBoost                     0.927464         0.918590            0.932309   \n",
              "KNeighbors                  0.899638         0.869408            0.896409   \n",
              "Logistic Regression         0.891798         0.883682            0.890461   \n",
              "Decision Tree               0.797297         0.889106            0.856604   \n",
              "\n",
              "                     ROC-AUC Score Standard Deviation  \n",
              "Models                                                 \n",
              "Random Forest                                0.008045  \n",
              "XGBoost                                      0.008971  \n",
              "KNeighbors                                   0.014235  \n",
              "Logistic Regression                          0.006755  \n",
              "Decision Tree                                0.031586  "
            ],
            "text/html": [
              "\n",
              "  <div id=\"df-049bcb5d-4144-4a64-b463-fc87193ba277\">\n",
              "    <div class=\"colab-df-container\">\n",
              "      <div>\n",
              "<style scoped>\n",
              "    .dataframe tbody tr th:only-of-type {\n",
              "        vertical-align: middle;\n",
              "    }\n",
              "\n",
              "    .dataframe tbody tr th {\n",
              "        vertical-align: top;\n",
              "    }\n",
              "\n",
              "    .dataframe thead th {\n",
              "        text-align: right;\n",
              "    }\n",
              "</style>\n",
              "<table border=\"1\" class=\"dataframe\">\n",
              "  <thead>\n",
              "    <tr style=\"text-align: right;\">\n",
              "      <th></th>\n",
              "      <th>ROC-AUC Score 1</th>\n",
              "      <th>ROC-AUC Score 2</th>\n",
              "      <th>ROC-AUC Score 3</th>\n",
              "      <th>ROC-AUC Score 4</th>\n",
              "      <th>ROC-AUC Score 5</th>\n",
              "      <th>ROC-AUC Score Mean</th>\n",
              "      <th>ROC-AUC Score Standard Deviation</th>\n",
              "    </tr>\n",
              "    <tr>\n",
              "      <th>Models</th>\n",
              "      <th></th>\n",
              "      <th></th>\n",
              "      <th></th>\n",
              "      <th></th>\n",
              "      <th></th>\n",
              "      <th></th>\n",
              "      <th></th>\n",
              "    </tr>\n",
              "  </thead>\n",
              "  <tbody>\n",
              "    <tr>\n",
              "      <th>Random Forest</th>\n",
              "      <td>0.978309</td>\n",
              "      <td>0.976528</td>\n",
              "      <td>0.977541</td>\n",
              "      <td>0.958750</td>\n",
              "      <td>0.964157</td>\n",
              "      <td>0.971057</td>\n",
              "      <td>0.008045</td>\n",
              "    </tr>\n",
              "    <tr>\n",
              "      <th>XGBoost</th>\n",
              "      <td>0.936721</td>\n",
              "      <td>0.933423</td>\n",
              "      <td>0.945348</td>\n",
              "      <td>0.927464</td>\n",
              "      <td>0.918590</td>\n",
              "      <td>0.932309</td>\n",
              "      <td>0.008971</td>\n",
              "    </tr>\n",
              "    <tr>\n",
              "      <th>KNeighbors</th>\n",
              "      <td>0.902112</td>\n",
              "      <td>0.899200</td>\n",
              "      <td>0.911686</td>\n",
              "      <td>0.899638</td>\n",
              "      <td>0.869408</td>\n",
              "      <td>0.896409</td>\n",
              "      <td>0.014235</td>\n",
              "    </tr>\n",
              "    <tr>\n",
              "      <th>Logistic Regression</th>\n",
              "      <td>0.885900</td>\n",
              "      <td>0.888061</td>\n",
              "      <td>0.902864</td>\n",
              "      <td>0.891798</td>\n",
              "      <td>0.883682</td>\n",
              "      <td>0.890461</td>\n",
              "      <td>0.006755</td>\n",
              "    </tr>\n",
              "    <tr>\n",
              "      <th>Decision Tree</th>\n",
              "      <td>0.859779</td>\n",
              "      <td>0.876340</td>\n",
              "      <td>0.860500</td>\n",
              "      <td>0.797297</td>\n",
              "      <td>0.889106</td>\n",
              "      <td>0.856604</td>\n",
              "      <td>0.031586</td>\n",
              "    </tr>\n",
              "  </tbody>\n",
              "</table>\n",
              "</div>\n",
              "      <button class=\"colab-df-convert\" onclick=\"convertToInteractive('df-049bcb5d-4144-4a64-b463-fc87193ba277')\"\n",
              "              title=\"Convert this dataframe to an interactive table.\"\n",
              "              style=\"display:none;\">\n",
              "        \n",
              "  <svg xmlns=\"http://www.w3.org/2000/svg\" height=\"24px\"viewBox=\"0 0 24 24\"\n",
              "       width=\"24px\">\n",
              "    <path d=\"M0 0h24v24H0V0z\" fill=\"none\"/>\n",
              "    <path d=\"M18.56 5.44l.94 2.06.94-2.06 2.06-.94-2.06-.94-.94-2.06-.94 2.06-2.06.94zm-11 1L8.5 8.5l.94-2.06 2.06-.94-2.06-.94L8.5 2.5l-.94 2.06-2.06.94zm10 10l.94 2.06.94-2.06 2.06-.94-2.06-.94-.94-2.06-.94 2.06-2.06.94z\"/><path d=\"M17.41 7.96l-1.37-1.37c-.4-.4-.92-.59-1.43-.59-.52 0-1.04.2-1.43.59L10.3 9.45l-7.72 7.72c-.78.78-.78 2.05 0 2.83L4 21.41c.39.39.9.59 1.41.59.51 0 1.02-.2 1.41-.59l7.78-7.78 2.81-2.81c.8-.78.8-2.07 0-2.86zM5.41 20L4 18.59l7.72-7.72 1.47 1.35L5.41 20z\"/>\n",
              "  </svg>\n",
              "      </button>\n",
              "      \n",
              "  <style>\n",
              "    .colab-df-container {\n",
              "      display:flex;\n",
              "      flex-wrap:wrap;\n",
              "      gap: 12px;\n",
              "    }\n",
              "\n",
              "    .colab-df-convert {\n",
              "      background-color: #E8F0FE;\n",
              "      border: none;\n",
              "      border-radius: 50%;\n",
              "      cursor: pointer;\n",
              "      display: none;\n",
              "      fill: #1967D2;\n",
              "      height: 32px;\n",
              "      padding: 0 0 0 0;\n",
              "      width: 32px;\n",
              "    }\n",
              "\n",
              "    .colab-df-convert:hover {\n",
              "      background-color: #E2EBFA;\n",
              "      box-shadow: 0px 1px 2px rgba(60, 64, 67, 0.3), 0px 1px 3px 1px rgba(60, 64, 67, 0.15);\n",
              "      fill: #174EA6;\n",
              "    }\n",
              "\n",
              "    [theme=dark] .colab-df-convert {\n",
              "      background-color: #3B4455;\n",
              "      fill: #D2E3FC;\n",
              "    }\n",
              "\n",
              "    [theme=dark] .colab-df-convert:hover {\n",
              "      background-color: #434B5C;\n",
              "      box-shadow: 0px 1px 3px 1px rgba(0, 0, 0, 0.15);\n",
              "      filter: drop-shadow(0px 1px 2px rgba(0, 0, 0, 0.3));\n",
              "      fill: #FFFFFF;\n",
              "    }\n",
              "  </style>\n",
              "\n",
              "      <script>\n",
              "        const buttonEl =\n",
              "          document.querySelector('#df-049bcb5d-4144-4a64-b463-fc87193ba277 button.colab-df-convert');\n",
              "        buttonEl.style.display =\n",
              "          google.colab.kernel.accessAllowed ? 'block' : 'none';\n",
              "\n",
              "        async function convertToInteractive(key) {\n",
              "          const element = document.querySelector('#df-049bcb5d-4144-4a64-b463-fc87193ba277');\n",
              "          const dataTable =\n",
              "            await google.colab.kernel.invokeFunction('convertToInteractive',\n",
              "                                                     [key], {});\n",
              "          if (!dataTable) return;\n",
              "\n",
              "          const docLinkHtml = 'Like what you see? Visit the ' +\n",
              "            '<a target=\"_blank\" href=https://colab.research.google.com/notebooks/data_table.ipynb>data table notebook</a>'\n",
              "            + ' to learn more about interactive tables.';\n",
              "          element.innerHTML = '';\n",
              "          dataTable['output_type'] = 'display_data';\n",
              "          await google.colab.output.renderOutput(dataTable, element);\n",
              "          const docLink = document.createElement('div');\n",
              "          docLink.innerHTML = docLinkHtml;\n",
              "          element.appendChild(docLink);\n",
              "        }\n",
              "      </script>\n",
              "    </div>\n",
              "  </div>\n",
              "  "
            ]
          },
          "metadata": {},
          "execution_count": 57
        }
      ]
    },
    {
      "cell_type": "code",
      "source": [
        "skfold = StratifiedKFold(n_splits=5)\n",
        "pipeline_new = Pipeline([\n",
        "    ('preprocess', transformer_simple_new),\n",
        "    ('model', rf)\n",
        "    ])\n",
        "pipeline_new.fit(x_train_new, y_train_new)\n",
        "y_pred_new = pipeline_new.predict(x_test_new)\n",
        "print('Without New Features\\nROC-AUC Score:', roc_auc_score(y_test, y_pred_simple), '\\n', classification_report(y_test, y_pred_simple))\n",
        "print('With New Features\\nROC-AUC Score:', roc_auc_score(y_test, y_pred_new), '\\n', classification_report(y_test, y_pred_new))"
      ],
      "metadata": {
        "id": "fa0XU1_7_v9Z",
        "colab": {
          "base_uri": "https://localhost:8080/"
        },
        "outputId": "675a56b0-dd12-406c-c183-7caf0360f77c"
      },
      "execution_count": 62,
      "outputs": [
        {
          "output_type": "stream",
          "name": "stdout",
          "text": [
            "Without New Features\n",
            "ROC-AUC Score: 0.8908074783218886 \n",
            "               precision    recall  f1-score   support\n",
            "\n",
            "           0       0.96      0.99      0.98      1405\n",
            "           1       0.96      0.79      0.86       284\n",
            "\n",
            "    accuracy                           0.96      1689\n",
            "   macro avg       0.96      0.89      0.92      1689\n",
            "weighted avg       0.96      0.96      0.96      1689\n",
            "\n",
            "With New Features\n",
            "ROC-AUC Score: 0.8735389203548695 \n",
            "               precision    recall  f1-score   support\n",
            "\n",
            "           0       0.95      0.99      0.97      1405\n",
            "           1       0.94      0.76      0.84       284\n",
            "\n",
            "    accuracy                           0.95      1689\n",
            "   macro avg       0.95      0.87      0.90      1689\n",
            "weighted avg       0.95      0.95      0.95      1689\n",
            "\n"
          ]
        }
      ]
    },
    {
      "cell_type": "markdown",
      "source": [
        "It seems with the new features, the overall performance go down slightly, thus it is better to not use the new features"
      ],
      "metadata": {
        "id": "0CwnBm6TEjwP"
      }
    },
    {
      "cell_type": "markdown",
      "source": [
        "## Oversampling Methods"
      ],
      "metadata": {
        "id": "J8Oo5qkfWIB0"
      }
    },
    {
      "cell_type": "markdown",
      "source": [
        "Since the Data is imbalanced, we will try to apply some oversampling method to see if there are any improvement in the model."
      ],
      "metadata": {
        "id": "P6Q8tUtXsW3b"
      }
    },
    {
      "cell_type": "markdown",
      "source": [
        "### Random Over Sampling"
      ],
      "metadata": {
        "id": "izi9u-DMqh0A"
      }
    },
    {
      "cell_type": "markdown",
      "source": [
        "First, we will try to apply the Random Oversampling method to oversample the dataset."
      ],
      "metadata": {
        "id": "gdLV_Jk1ABM4"
      }
    },
    {
      "cell_type": "code",
      "source": [
        "rf = RandomForestClassifier(random_state = 42)"
      ],
      "metadata": {
        "id": "_BAeFAN6lp4T"
      },
      "execution_count": 63,
      "outputs": []
    },
    {
      "cell_type": "code",
      "source": [
        "score = []\n",
        "mean = []\n",
        "std = []\n",
        "\n",
        "skfold = StratifiedKFold(n_splits = 5, shuffle = True, random_state = 42)\n",
        "pipeline = Pipeline([\n",
        "    ('preprocess', transformer_simple2),\n",
        "    ('model', rf)\n",
        "    ])\n",
        "pipeline_ros = Pipeline([\n",
        "    ('preprocess', transformer_simple2),\n",
        "    ('ros', RandomOverSampler(random_state = 42)),\n",
        "    ('model', rf)\n",
        "    ])\n",
        "model_cv_before = cross_val_score(pipeline, x_train, y_train, cv=skfold, scoring = 'roc_auc')\n",
        "score.append(model_cv_before)\n",
        "mean.append(model_cv_before.mean())\n",
        "std.append(model_cv_before.std())\n",
        "model_cv_after = cross_val_score(pipeline_ros, x_train, y_train, cv=skfold, scoring = 'roc_auc')\n",
        "score.append(model_cv_after)\n",
        "mean.append(model_cv_after.mean())\n",
        "std.append(model_cv_after.std())"
      ],
      "metadata": {
        "id": "YLjlRbyagH99"
      },
      "execution_count": 97,
      "outputs": []
    },
    {
      "cell_type": "code",
      "source": [
        "score_array = np.array(score)\n",
        "score_array = score_array.transpose()\n",
        "score_array"
      ],
      "metadata": {
        "colab": {
          "base_uri": "https://localhost:8080/"
        },
        "id": "EJy7nnjAn5eA",
        "outputId": "2ecb8365-c151-4cec-c8c8-ee61bd5cadfa"
      },
      "execution_count": 98,
      "outputs": [
        {
          "output_type": "execute_result",
          "data": {
            "text/plain": [
              "array([[0.97550087, 0.98210847],\n",
              "       [0.97631421, 0.97906851],\n",
              "       [0.96952878, 0.97439017],\n",
              "       [0.98345865, 0.98129484],\n",
              "       [0.97145153, 0.96935086]])"
            ]
          },
          "metadata": {},
          "execution_count": 98
        }
      ]
    },
    {
      "cell_type": "code",
      "source": [
        "df_cv = pd.DataFrame(\n",
        "    data = {'Models' : ['Random Forest Before Oversampling', 'Random Forest with OverSampling'], \n",
        "            'ROC-AUC Score 1' : score_array[0], \n",
        "            'ROC-AUC Score 2' : score_array[1], \n",
        "            'ROC-AUC Score 3' : score_array[2], \n",
        "            'ROC-AUC Score 4' : score_array[3], \n",
        "            'ROC-AUC Score 5' : score_array[4], \n",
        "            'ROC-AUC Score Mean' : mean,\n",
        "            'ROC-AUC Score Standard Deviation' : std})\n",
        "df_cv.set_index('Models').sort_values('ROC-AUC Score Mean', ascending = False)"
      ],
      "metadata": {
        "colab": {
          "base_uri": "https://localhost:8080/",
          "height": 143
        },
        "id": "3cVVotR1gU7b",
        "outputId": "f0b5a624-83be-47d1-f200-c4bfc8f22346"
      },
      "execution_count": 99,
      "outputs": [
        {
          "output_type": "execute_result",
          "data": {
            "text/plain": [
              "                                   ROC-AUC Score 1  ROC-AUC Score 2  \\\n",
              "Models                                                                \n",
              "Random Forest with OverSampling           0.982108         0.979069   \n",
              "Random Forest Before Oversampling         0.975501         0.976314   \n",
              "\n",
              "                                   ROC-AUC Score 3  ROC-AUC Score 4  \\\n",
              "Models                                                                \n",
              "Random Forest with OverSampling           0.974390         0.981295   \n",
              "Random Forest Before Oversampling         0.969529         0.983459   \n",
              "\n",
              "                                   ROC-AUC Score 5  ROC-AUC Score Mean  \\\n",
              "Models                                                                   \n",
              "Random Forest with OverSampling           0.969351            0.977243   \n",
              "Random Forest Before Oversampling         0.971452            0.975251   \n",
              "\n",
              "                                   ROC-AUC Score Standard Deviation  \n",
              "Models                                                               \n",
              "Random Forest with OverSampling                            0.004772  \n",
              "Random Forest Before Oversampling                          0.004811  "
            ],
            "text/html": [
              "\n",
              "  <div id=\"df-bde71876-8f28-4b22-b211-7c54189330d5\">\n",
              "    <div class=\"colab-df-container\">\n",
              "      <div>\n",
              "<style scoped>\n",
              "    .dataframe tbody tr th:only-of-type {\n",
              "        vertical-align: middle;\n",
              "    }\n",
              "\n",
              "    .dataframe tbody tr th {\n",
              "        vertical-align: top;\n",
              "    }\n",
              "\n",
              "    .dataframe thead th {\n",
              "        text-align: right;\n",
              "    }\n",
              "</style>\n",
              "<table border=\"1\" class=\"dataframe\">\n",
              "  <thead>\n",
              "    <tr style=\"text-align: right;\">\n",
              "      <th></th>\n",
              "      <th>ROC-AUC Score 1</th>\n",
              "      <th>ROC-AUC Score 2</th>\n",
              "      <th>ROC-AUC Score 3</th>\n",
              "      <th>ROC-AUC Score 4</th>\n",
              "      <th>ROC-AUC Score 5</th>\n",
              "      <th>ROC-AUC Score Mean</th>\n",
              "      <th>ROC-AUC Score Standard Deviation</th>\n",
              "    </tr>\n",
              "    <tr>\n",
              "      <th>Models</th>\n",
              "      <th></th>\n",
              "      <th></th>\n",
              "      <th></th>\n",
              "      <th></th>\n",
              "      <th></th>\n",
              "      <th></th>\n",
              "      <th></th>\n",
              "    </tr>\n",
              "  </thead>\n",
              "  <tbody>\n",
              "    <tr>\n",
              "      <th>Random Forest with OverSampling</th>\n",
              "      <td>0.982108</td>\n",
              "      <td>0.979069</td>\n",
              "      <td>0.974390</td>\n",
              "      <td>0.981295</td>\n",
              "      <td>0.969351</td>\n",
              "      <td>0.977243</td>\n",
              "      <td>0.004772</td>\n",
              "    </tr>\n",
              "    <tr>\n",
              "      <th>Random Forest Before Oversampling</th>\n",
              "      <td>0.975501</td>\n",
              "      <td>0.976314</td>\n",
              "      <td>0.969529</td>\n",
              "      <td>0.983459</td>\n",
              "      <td>0.971452</td>\n",
              "      <td>0.975251</td>\n",
              "      <td>0.004811</td>\n",
              "    </tr>\n",
              "  </tbody>\n",
              "</table>\n",
              "</div>\n",
              "      <button class=\"colab-df-convert\" onclick=\"convertToInteractive('df-bde71876-8f28-4b22-b211-7c54189330d5')\"\n",
              "              title=\"Convert this dataframe to an interactive table.\"\n",
              "              style=\"display:none;\">\n",
              "        \n",
              "  <svg xmlns=\"http://www.w3.org/2000/svg\" height=\"24px\"viewBox=\"0 0 24 24\"\n",
              "       width=\"24px\">\n",
              "    <path d=\"M0 0h24v24H0V0z\" fill=\"none\"/>\n",
              "    <path d=\"M18.56 5.44l.94 2.06.94-2.06 2.06-.94-2.06-.94-.94-2.06-.94 2.06-2.06.94zm-11 1L8.5 8.5l.94-2.06 2.06-.94-2.06-.94L8.5 2.5l-.94 2.06-2.06.94zm10 10l.94 2.06.94-2.06 2.06-.94-2.06-.94-.94-2.06-.94 2.06-2.06.94z\"/><path d=\"M17.41 7.96l-1.37-1.37c-.4-.4-.92-.59-1.43-.59-.52 0-1.04.2-1.43.59L10.3 9.45l-7.72 7.72c-.78.78-.78 2.05 0 2.83L4 21.41c.39.39.9.59 1.41.59.51 0 1.02-.2 1.41-.59l7.78-7.78 2.81-2.81c.8-.78.8-2.07 0-2.86zM5.41 20L4 18.59l7.72-7.72 1.47 1.35L5.41 20z\"/>\n",
              "  </svg>\n",
              "      </button>\n",
              "      \n",
              "  <style>\n",
              "    .colab-df-container {\n",
              "      display:flex;\n",
              "      flex-wrap:wrap;\n",
              "      gap: 12px;\n",
              "    }\n",
              "\n",
              "    .colab-df-convert {\n",
              "      background-color: #E8F0FE;\n",
              "      border: none;\n",
              "      border-radius: 50%;\n",
              "      cursor: pointer;\n",
              "      display: none;\n",
              "      fill: #1967D2;\n",
              "      height: 32px;\n",
              "      padding: 0 0 0 0;\n",
              "      width: 32px;\n",
              "    }\n",
              "\n",
              "    .colab-df-convert:hover {\n",
              "      background-color: #E2EBFA;\n",
              "      box-shadow: 0px 1px 2px rgba(60, 64, 67, 0.3), 0px 1px 3px 1px rgba(60, 64, 67, 0.15);\n",
              "      fill: #174EA6;\n",
              "    }\n",
              "\n",
              "    [theme=dark] .colab-df-convert {\n",
              "      background-color: #3B4455;\n",
              "      fill: #D2E3FC;\n",
              "    }\n",
              "\n",
              "    [theme=dark] .colab-df-convert:hover {\n",
              "      background-color: #434B5C;\n",
              "      box-shadow: 0px 1px 3px 1px rgba(0, 0, 0, 0.15);\n",
              "      filter: drop-shadow(0px 1px 2px rgba(0, 0, 0, 0.3));\n",
              "      fill: #FFFFFF;\n",
              "    }\n",
              "  </style>\n",
              "\n",
              "      <script>\n",
              "        const buttonEl =\n",
              "          document.querySelector('#df-bde71876-8f28-4b22-b211-7c54189330d5 button.colab-df-convert');\n",
              "        buttonEl.style.display =\n",
              "          google.colab.kernel.accessAllowed ? 'block' : 'none';\n",
              "\n",
              "        async function convertToInteractive(key) {\n",
              "          const element = document.querySelector('#df-bde71876-8f28-4b22-b211-7c54189330d5');\n",
              "          const dataTable =\n",
              "            await google.colab.kernel.invokeFunction('convertToInteractive',\n",
              "                                                     [key], {});\n",
              "          if (!dataTable) return;\n",
              "\n",
              "          const docLinkHtml = 'Like what you see? Visit the ' +\n",
              "            '<a target=\"_blank\" href=https://colab.research.google.com/notebooks/data_table.ipynb>data table notebook</a>'\n",
              "            + ' to learn more about interactive tables.';\n",
              "          element.innerHTML = '';\n",
              "          dataTable['output_type'] = 'display_data';\n",
              "          await google.colab.output.renderOutput(dataTable, element);\n",
              "          const docLink = document.createElement('div');\n",
              "          docLink.innerHTML = docLinkHtml;\n",
              "          element.appendChild(docLink);\n",
              "        }\n",
              "      </script>\n",
              "    </div>\n",
              "  </div>\n",
              "  "
            ]
          },
          "metadata": {},
          "execution_count": 99
        }
      ]
    },
    {
      "cell_type": "code",
      "source": [
        "pipeline.fit(x_train, y_train)\n",
        "y_pred_before = pipeline.predict(x_test)\n",
        "print('Before Oversampling\\nROC-AUC Score:', roc_auc_score(y_test, y_pred_before), '\\n', classification_report(y_test, y_pred_before))\n",
        "pipeline_ros.fit(x_train, y_train)\n",
        "y_pred_after_ros = pipeline.predict(x_test)\n",
        "print('After Oversampling\\nROC-AUC Score:', roc_auc_score(y_test, y_pred_after_ros), '\\n', classification_report(y_test, y_pred_after_ros))"
      ],
      "metadata": {
        "colab": {
          "base_uri": "https://localhost:8080/"
        },
        "id": "xyhwePvfjayI",
        "outputId": "6e394246-e907-4590-ca13-9b6f13c2938f"
      },
      "execution_count": 100,
      "outputs": [
        {
          "output_type": "stream",
          "name": "stdout",
          "text": [
            "Before Oversampling\n",
            "ROC-AUC Score: 0.8908074783218886 \n",
            "               precision    recall  f1-score   support\n",
            "\n",
            "           0       0.96      0.99      0.98      1405\n",
            "           1       0.96      0.79      0.86       284\n",
            "\n",
            "    accuracy                           0.96      1689\n",
            "   macro avg       0.96      0.89      0.92      1689\n",
            "weighted avg       0.96      0.96      0.96      1689\n",
            "\n",
            "After Oversampling\n",
            "ROC-AUC Score: 0.9319933837902862 \n",
            "               precision    recall  f1-score   support\n",
            "\n",
            "           0       0.97      0.99      0.98      1405\n",
            "           1       0.95      0.87      0.91       284\n",
            "\n",
            "    accuracy                           0.97      1689\n",
            "   macro avg       0.96      0.93      0.95      1689\n",
            "weighted avg       0.97      0.97      0.97      1689\n",
            "\n"
          ]
        }
      ]
    },
    {
      "cell_type": "markdown",
      "source": [
        "It seems that, after using the random oversampling, the ROC-AUC Score of the training data mean ROC-AUC is 0.977243 with a standarad deviation of 0.004772, while, the ROC-AUC Score for the test is increased by approximately 0.02 and the overall performance such as, the negative precision, the positive recall, the positive f1-score, and accuracy is increased."
      ],
      "metadata": {
        "id": "yuUYYPR1mVFL"
      }
    },
    {
      "cell_type": "markdown",
      "source": [
        "### SMOTE(Synthetic Minority Oversampling Technique)"
      ],
      "metadata": {
        "id": "lBxpITBEduy4"
      }
    },
    {
      "cell_type": "markdown",
      "source": [
        "Next, we will try to use SMOTE for the oversampling."
      ],
      "metadata": {
        "id": "TDqk2Z4l_4pt"
      }
    },
    {
      "cell_type": "code",
      "source": [
        "score = []\n",
        "mean = []\n",
        "std = []\n",
        "\n",
        "skfold = StratifiedKFold(n_splits = 5)\n",
        "pipeline = Pipeline([\n",
        "    ('preprocess', transformer_simple2),\n",
        "    ('model', rf)\n",
        "    ])\n",
        "pipeline_smote = Pipeline([\n",
        "    ('preprocess', transformer_simple2),\n",
        "    ('smote', SMOTE(random_state = 42)),\n",
        "    ('model', rf)\n",
        "])\n",
        "model_cv_before = cross_val_score(pipeline, x_train, y_train, cv=skfold, scoring = 'roc_auc')\n",
        "score.append(model_cv_before)\n",
        "mean.append(model_cv_before.mean())\n",
        "std.append(model_cv_before.std())\n",
        "model_cv_after = cross_val_score(pipeline_smote, x_train, y_train, cv=skfold, scoring = 'roc_auc')\n",
        "score.append(model_cv_after)\n",
        "mean.append(model_cv_after.mean())\n",
        "std.append(model_cv_after.std())"
      ],
      "metadata": {
        "id": "txpSu-8BqpFu"
      },
      "execution_count": 68,
      "outputs": []
    },
    {
      "cell_type": "code",
      "source": [
        "score_array = np.array(score)\n",
        "score_array = score_array.transpose()\n",
        "score_array\n",
        "df_cv = pd.DataFrame(\n",
        "    data = {'Models' : ['Random Forest Before Oversampling', 'Random Forest with OverSampling'], \n",
        "            'ROC-AUC Score 1' : score_array[0], \n",
        "            'ROC-AUC Score 2' : score_array[1], \n",
        "            'ROC-AUC Score 3' : score_array[2], \n",
        "            'ROC-AUC Score 4' : score_array[3], \n",
        "            'ROC-AUC Score 5' : score_array[4], \n",
        "            'ROC-AUC Score Mean' : mean,\n",
        "            'ROC-AUC Score Standard Deviation' : std})\n",
        "df_cv.set_index('Models').sort_values('ROC-AUC Score Mean', ascending = False)"
      ],
      "metadata": {
        "colab": {
          "base_uri": "https://localhost:8080/",
          "height": 0
        },
        "id": "SZAEBPjDd8E2",
        "outputId": "62052cde-33e0-4fd1-fa47-feeb1735f5ba"
      },
      "execution_count": 69,
      "outputs": [
        {
          "output_type": "execute_result",
          "data": {
            "text/plain": [
              "                                   ROC-AUC Score 1  ROC-AUC Score 2  \\\n",
              "Models                                                                \n",
              "Random Forest Before Oversampling         0.983404         0.981292   \n",
              "Random Forest with OverSampling           0.977249         0.973502   \n",
              "\n",
              "                                   ROC-AUC Score 3  ROC-AUC Score 4  \\\n",
              "Models                                                                \n",
              "Random Forest Before Oversampling         0.981134         0.972490   \n",
              "Random Forest with OverSampling           0.976738         0.960793   \n",
              "\n",
              "                                   ROC-AUC Score 5  ROC-AUC Score Mean  \\\n",
              "Models                                                                   \n",
              "Random Forest Before Oversampling         0.958457            0.975355   \n",
              "Random Forest with OverSampling           0.952293            0.968115   \n",
              "\n",
              "                                   ROC-AUC Score Standard Deviation  \n",
              "Models                                                               \n",
              "Random Forest Before Oversampling                          0.009243  \n",
              "Random Forest with OverSampling                            0.009907  "
            ],
            "text/html": [
              "\n",
              "  <div id=\"df-38d4703c-b91e-4554-9551-21a5d70ae223\">\n",
              "    <div class=\"colab-df-container\">\n",
              "      <div>\n",
              "<style scoped>\n",
              "    .dataframe tbody tr th:only-of-type {\n",
              "        vertical-align: middle;\n",
              "    }\n",
              "\n",
              "    .dataframe tbody tr th {\n",
              "        vertical-align: top;\n",
              "    }\n",
              "\n",
              "    .dataframe thead th {\n",
              "        text-align: right;\n",
              "    }\n",
              "</style>\n",
              "<table border=\"1\" class=\"dataframe\">\n",
              "  <thead>\n",
              "    <tr style=\"text-align: right;\">\n",
              "      <th></th>\n",
              "      <th>ROC-AUC Score 1</th>\n",
              "      <th>ROC-AUC Score 2</th>\n",
              "      <th>ROC-AUC Score 3</th>\n",
              "      <th>ROC-AUC Score 4</th>\n",
              "      <th>ROC-AUC Score 5</th>\n",
              "      <th>ROC-AUC Score Mean</th>\n",
              "      <th>ROC-AUC Score Standard Deviation</th>\n",
              "    </tr>\n",
              "    <tr>\n",
              "      <th>Models</th>\n",
              "      <th></th>\n",
              "      <th></th>\n",
              "      <th></th>\n",
              "      <th></th>\n",
              "      <th></th>\n",
              "      <th></th>\n",
              "      <th></th>\n",
              "    </tr>\n",
              "  </thead>\n",
              "  <tbody>\n",
              "    <tr>\n",
              "      <th>Random Forest Before Oversampling</th>\n",
              "      <td>0.983404</td>\n",
              "      <td>0.981292</td>\n",
              "      <td>0.981134</td>\n",
              "      <td>0.972490</td>\n",
              "      <td>0.958457</td>\n",
              "      <td>0.975355</td>\n",
              "      <td>0.009243</td>\n",
              "    </tr>\n",
              "    <tr>\n",
              "      <th>Random Forest with OverSampling</th>\n",
              "      <td>0.977249</td>\n",
              "      <td>0.973502</td>\n",
              "      <td>0.976738</td>\n",
              "      <td>0.960793</td>\n",
              "      <td>0.952293</td>\n",
              "      <td>0.968115</td>\n",
              "      <td>0.009907</td>\n",
              "    </tr>\n",
              "  </tbody>\n",
              "</table>\n",
              "</div>\n",
              "      <button class=\"colab-df-convert\" onclick=\"convertToInteractive('df-38d4703c-b91e-4554-9551-21a5d70ae223')\"\n",
              "              title=\"Convert this dataframe to an interactive table.\"\n",
              "              style=\"display:none;\">\n",
              "        \n",
              "  <svg xmlns=\"http://www.w3.org/2000/svg\" height=\"24px\"viewBox=\"0 0 24 24\"\n",
              "       width=\"24px\">\n",
              "    <path d=\"M0 0h24v24H0V0z\" fill=\"none\"/>\n",
              "    <path d=\"M18.56 5.44l.94 2.06.94-2.06 2.06-.94-2.06-.94-.94-2.06-.94 2.06-2.06.94zm-11 1L8.5 8.5l.94-2.06 2.06-.94-2.06-.94L8.5 2.5l-.94 2.06-2.06.94zm10 10l.94 2.06.94-2.06 2.06-.94-2.06-.94-.94-2.06-.94 2.06-2.06.94z\"/><path d=\"M17.41 7.96l-1.37-1.37c-.4-.4-.92-.59-1.43-.59-.52 0-1.04.2-1.43.59L10.3 9.45l-7.72 7.72c-.78.78-.78 2.05 0 2.83L4 21.41c.39.39.9.59 1.41.59.51 0 1.02-.2 1.41-.59l7.78-7.78 2.81-2.81c.8-.78.8-2.07 0-2.86zM5.41 20L4 18.59l7.72-7.72 1.47 1.35L5.41 20z\"/>\n",
              "  </svg>\n",
              "      </button>\n",
              "      \n",
              "  <style>\n",
              "    .colab-df-container {\n",
              "      display:flex;\n",
              "      flex-wrap:wrap;\n",
              "      gap: 12px;\n",
              "    }\n",
              "\n",
              "    .colab-df-convert {\n",
              "      background-color: #E8F0FE;\n",
              "      border: none;\n",
              "      border-radius: 50%;\n",
              "      cursor: pointer;\n",
              "      display: none;\n",
              "      fill: #1967D2;\n",
              "      height: 32px;\n",
              "      padding: 0 0 0 0;\n",
              "      width: 32px;\n",
              "    }\n",
              "\n",
              "    .colab-df-convert:hover {\n",
              "      background-color: #E2EBFA;\n",
              "      box-shadow: 0px 1px 2px rgba(60, 64, 67, 0.3), 0px 1px 3px 1px rgba(60, 64, 67, 0.15);\n",
              "      fill: #174EA6;\n",
              "    }\n",
              "\n",
              "    [theme=dark] .colab-df-convert {\n",
              "      background-color: #3B4455;\n",
              "      fill: #D2E3FC;\n",
              "    }\n",
              "\n",
              "    [theme=dark] .colab-df-convert:hover {\n",
              "      background-color: #434B5C;\n",
              "      box-shadow: 0px 1px 3px 1px rgba(0, 0, 0, 0.15);\n",
              "      filter: drop-shadow(0px 1px 2px rgba(0, 0, 0, 0.3));\n",
              "      fill: #FFFFFF;\n",
              "    }\n",
              "  </style>\n",
              "\n",
              "      <script>\n",
              "        const buttonEl =\n",
              "          document.querySelector('#df-38d4703c-b91e-4554-9551-21a5d70ae223 button.colab-df-convert');\n",
              "        buttonEl.style.display =\n",
              "          google.colab.kernel.accessAllowed ? 'block' : 'none';\n",
              "\n",
              "        async function convertToInteractive(key) {\n",
              "          const element = document.querySelector('#df-38d4703c-b91e-4554-9551-21a5d70ae223');\n",
              "          const dataTable =\n",
              "            await google.colab.kernel.invokeFunction('convertToInteractive',\n",
              "                                                     [key], {});\n",
              "          if (!dataTable) return;\n",
              "\n",
              "          const docLinkHtml = 'Like what you see? Visit the ' +\n",
              "            '<a target=\"_blank\" href=https://colab.research.google.com/notebooks/data_table.ipynb>data table notebook</a>'\n",
              "            + ' to learn more about interactive tables.';\n",
              "          element.innerHTML = '';\n",
              "          dataTable['output_type'] = 'display_data';\n",
              "          await google.colab.output.renderOutput(dataTable, element);\n",
              "          const docLink = document.createElement('div');\n",
              "          docLink.innerHTML = docLinkHtml;\n",
              "          element.appendChild(docLink);\n",
              "        }\n",
              "      </script>\n",
              "    </div>\n",
              "  </div>\n",
              "  "
            ]
          },
          "metadata": {},
          "execution_count": 69
        }
      ]
    },
    {
      "cell_type": "code",
      "source": [
        "pipeline.fit(x_train, y_train)\n",
        "y_pred_before = pipeline.predict(x_test)\n",
        "print('Before Oversampling\\nROC-AUC Score:', roc_auc_score(y_test, y_pred_before), '\\n', classification_report(y_test, y_pred_before))\n",
        "pipeline_smote.fit(x_train, y_train)\n",
        "y_pred_after_smote = pipeline_smote.predict(x_test)\n",
        "print('After Oversampling\\nROC-AUC Score:', roc_auc_score(y_test, y_pred_after_smote), '\\n', classification_report(y_test, y_pred_after_smote))"
      ],
      "metadata": {
        "id": "xUvCejVfq35r",
        "colab": {
          "base_uri": "https://localhost:8080/"
        },
        "outputId": "09de7e7a-a483-437c-d280-0ab300e10ec9"
      },
      "execution_count": 70,
      "outputs": [
        {
          "output_type": "stream",
          "name": "stdout",
          "text": [
            "Before Oversampling\n",
            "ROC-AUC Score: 0.8908074783218886 \n",
            "               precision    recall  f1-score   support\n",
            "\n",
            "           0       0.96      0.99      0.98      1405\n",
            "           1       0.96      0.79      0.86       284\n",
            "\n",
            "    accuracy                           0.96      1689\n",
            "   macro avg       0.96      0.89      0.92      1689\n",
            "weighted avg       0.96      0.96      0.96      1689\n",
            "\n",
            "After Oversampling\n",
            "ROC-AUC Score: 0.898542679564934 \n",
            "               precision    recall  f1-score   support\n",
            "\n",
            "           0       0.96      0.99      0.98      1405\n",
            "           1       0.95      0.81      0.87       284\n",
            "\n",
            "    accuracy                           0.96      1689\n",
            "   macro avg       0.95      0.90      0.92      1689\n",
            "weighted avg       0.96      0.96      0.96      1689\n",
            "\n"
          ]
        }
      ]
    },
    {
      "cell_type": "markdown",
      "source": [
        "With SMOTE, the training ROC-AUC score averages is decreased, as opposed to the random oversampler technique where it increases by a little, with SMOTE producing ROC-AUC Score with mean of 0.968089 with standard deviation of 0.007001, it actually reduced the training score by a little with the test score, it produces a ROC-AUC Score of 0.89148162, which is a little lower than the ROC-AUC score of the model without oversampling with an increase of ROC-AUC score of 0.09, with increases in negative recall, positive recall, and positive f1-score, however, the positive precision is slightly reduced."
      ],
      "metadata": {
        "id": "inizmEfqeSU-"
      }
    },
    {
      "cell_type": "markdown",
      "source": [
        "## Oversampling Results"
      ],
      "metadata": {
        "id": "VPtPC2r6PQCg"
      }
    },
    {
      "cell_type": "code",
      "source": [
        "print('Before Oversampling\\nROC-AUC Score:', roc_auc_score(y_test, y_pred_before), '\\n', classification_report(y_test, y_pred_before))\n",
        "print('SMOTE Oversampling\\nROC-AUC Score:', roc_auc_score(y_test, y_pred_after_smote), '\\n', classification_report(y_test, y_pred_after_smote))\n",
        "print('Random Oversampling\\nROC-AUC Score:', roc_auc_score(y_test, y_pred_after_ros), '\\n', classification_report(y_test, y_pred_after_ros))"
      ],
      "metadata": {
        "colab": {
          "base_uri": "https://localhost:8080/"
        },
        "id": "7ctVGu4Lo65o",
        "outputId": "87ada624-8fec-4b3d-9014-d724d7f5e1e7"
      },
      "execution_count": 71,
      "outputs": [
        {
          "output_type": "stream",
          "name": "stdout",
          "text": [
            "Before Oversampling\n",
            "ROC-AUC Score: 0.8908074783218886 \n",
            "               precision    recall  f1-score   support\n",
            "\n",
            "           0       0.96      0.99      0.98      1405\n",
            "           1       0.96      0.79      0.86       284\n",
            "\n",
            "    accuracy                           0.96      1689\n",
            "   macro avg       0.96      0.89      0.92      1689\n",
            "weighted avg       0.96      0.96      0.96      1689\n",
            "\n",
            "SMOTE Oversampling\n",
            "ROC-AUC Score: 0.898542679564934 \n",
            "               precision    recall  f1-score   support\n",
            "\n",
            "           0       0.96      0.99      0.98      1405\n",
            "           1       0.95      0.81      0.87       284\n",
            "\n",
            "    accuracy                           0.96      1689\n",
            "   macro avg       0.95      0.90      0.92      1689\n",
            "weighted avg       0.96      0.96      0.96      1689\n",
            "\n",
            "Random Oversampling\n",
            "ROC-AUC Score: 0.9319933837902862 \n",
            "               precision    recall  f1-score   support\n",
            "\n",
            "           0       0.97      0.99      0.98      1405\n",
            "           1       0.95      0.87      0.91       284\n",
            "\n",
            "    accuracy                           0.97      1689\n",
            "   macro avg       0.96      0.93      0.95      1689\n",
            "weighted avg       0.97      0.97      0.97      1689\n",
            "\n"
          ]
        }
      ]
    },
    {
      "cell_type": "markdown",
      "source": [
        "From the above classification report, random oversampler produces a result with increases in the classification metrics with little decreased performance in the positve precision and negative recall, however, the positive recall had an increase of 0.06 and the ROC-AUC score is increased by 0.03 and SMOTE produces a result that overall lower performance, random oversampler will be used."
      ],
      "metadata": {
        "id": "8RjCySOWhToH"
      }
    },
    {
      "cell_type": "markdown",
      "source": [
        "## Hyperparameter Tuning"
      ],
      "metadata": {
        "id": "WXVx4YZnqJpF"
      }
    },
    {
      "cell_type": "markdown",
      "source": [
        "For the next step, we will try to do some hyperparameter tuning and see if we can make the model perform better.\n",
        "\n",
        "Since the model that will be used is the Random Forest, here are the hyperparameters that will be tuned:\n",
        "1. Max Depth: How long is the path between the root node and the leaf node, default is None, the higher the depth is, the trees will start to overfit, thus, it is ideal to not put a high value in the max depth.\n",
        "2. min_samples_split: The minimum amount of samples required in a node to split into nodes, default is 2 \n",
        "3. min_samples_leaf: The minimum amount of samples that a leaf node to have, default is 1.\n",
        "4. n_estimators: How many trees that will be in the Random Forest, the performance of the model will usually increases until it stagnates at a certain amount, higher amount will use up more computational power, thus it is better to not go over the stagnation point, default is 100.\n",
        "5. max_features: Maximum number of features that is considered when looking for the best split, default = 'sqrt'   "
      ],
      "metadata": {
        "id": "pO6K2Tgyhukc"
      }
    },
    {
      "cell_type": "code",
      "source": [
        "pipeline2 = Pipeline([\n",
        "    ('preprocess', transformer_simple2),\n",
        "    ('ros', RandomOverSampler(random_state = 42)),\n",
        "    ('model', RandomForestClassifier(random_state = 42))\n",
        "    ])"
      ],
      "metadata": {
        "id": "CVAoFbwibKO6"
      },
      "execution_count": 72,
      "outputs": []
    },
    {
      "cell_type": "code",
      "source": [
        "hyperparam = [{\n",
        "    'model__max_depth' : [10, 20, 30],\n",
        "    'model__min_samples_split' : [2, 3, 4],\n",
        "    'model__min_samples_leaf' : [1, 2, 3],\n",
        "    'model__n_estimators' : [100, 150, 200],\n",
        "    'model__max_features' : ['sqrt', 'log2', None]\n",
        "}]"
      ],
      "metadata": {
        "id": "BE3FMfTBlOtk"
      },
      "execution_count": 101,
      "outputs": []
    },
    {
      "cell_type": "code",
      "source": [
        "grid = GridSearchCV(pipeline2, n_jobs = 4, param_grid = hyperparam, scoring = 'roc_auc', cv = StratifiedKFold(n_splits = 10, shuffle=True, random_state=42))"
      ],
      "metadata": {
        "id": "zWqPuGnCmby7"
      },
      "execution_count": 102,
      "outputs": []
    },
    {
      "cell_type": "code",
      "source": [
        "grid.fit(x_train, y_train)\n",
        "print(grid.best_score_)\n",
        "print(grid.best_params_)"
      ],
      "metadata": {
        "colab": {
          "base_uri": "https://localhost:8080/"
        },
        "id": "CcTpNqF5mr8t",
        "outputId": "9e9d910c-c464-46ef-dd5f-64ffd5ae24c8"
      },
      "execution_count": 103,
      "outputs": [
        {
          "output_type": "stream",
          "name": "stdout",
          "text": [
            "0.9853332843881853\n",
            "{'model__max_depth': 30, 'model__max_features': 'sqrt', 'model__min_samples_leaf': 1, 'model__min_samples_split': 2, 'model__n_estimators': 200}\n"
          ]
        }
      ]
    },
    {
      "cell_type": "markdown",
      "source": [
        "Best Parameter:\n",
        "- Max Depth: 30\n",
        "- Max Features: sqrt(the Square Root of total amount of features)\n",
        "- Min Samples Leaf: 1\n",
        "- Min Sample Split: 2\n",
        "- n_estimators: 200"
      ],
      "metadata": {
        "id": "rEqdvaUnUXY3"
      }
    },
    {
      "cell_type": "code",
      "source": [
        "tuned_model = grid.best_estimator_\n",
        "tuned_model.fit(x_train, y_train)"
      ],
      "metadata": {
        "colab": {
          "base_uri": "https://localhost:8080/"
        },
        "id": "XPJOlW4iOC5r",
        "outputId": "3674b01d-28ab-47de-dc9b-201b4ea6f8b4"
      },
      "execution_count": 104,
      "outputs": [
        {
          "output_type": "execute_result",
          "data": {
            "text/plain": [
              "Pipeline(steps=[('preprocess',\n",
              "                 ColumnTransformer(remainder='passthrough',\n",
              "                                   transformers=[('numtransformer',\n",
              "                                                  Pipeline(steps=[('imputer',\n",
              "                                                                   SimpleImputer(strategy='median')),\n",
              "                                                                  ('scaler',\n",
              "                                                                   StandardScaler())]),\n",
              "                                                  ['Tenure', 'WarehouseToHome',\n",
              "                                                   'HourSpendOnApp',\n",
              "                                                   'NumberOfDeviceRegistered',\n",
              "                                                   'NumberOfAddress',\n",
              "                                                   'OrderAmountHikeFromlastYear',\n",
              "                                                   'CouponUsed', 'OrderCount',\n",
              "                                                   'DaySinceLastOrder',\n",
              "                                                   'CashbackAmount']),\n",
              "                                                 ('onehot', OneHotEncoder(),\n",
              "                                                  ['PreferredLoginDevice',\n",
              "                                                   'Gender', 'MaritalStatus',\n",
              "                                                   'PreferredPaymentMode',\n",
              "                                                   'PreferedOrderCat'])])),\n",
              "                ('ros', RandomOverSampler(random_state=42)),\n",
              "                ('model',\n",
              "                 RandomForestClassifier(max_depth=30, max_features='sqrt',\n",
              "                                        n_estimators=200, random_state=42))])"
            ]
          },
          "metadata": {},
          "execution_count": 104
        }
      ]
    },
    {
      "cell_type": "code",
      "source": [
        "pipeline2.fit(x_train, y_train)"
      ],
      "metadata": {
        "colab": {
          "base_uri": "https://localhost:8080/"
        },
        "id": "hcpAiDR_OYS7",
        "outputId": "0d85530e-b1e3-4601-8466-9e57f35a941b"
      },
      "execution_count": 77,
      "outputs": [
        {
          "output_type": "execute_result",
          "data": {
            "text/plain": [
              "Pipeline(steps=[('preprocess',\n",
              "                 ColumnTransformer(remainder='passthrough',\n",
              "                                   transformers=[('numtransformer',\n",
              "                                                  Pipeline(steps=[('imputer',\n",
              "                                                                   SimpleImputer(strategy='median')),\n",
              "                                                                  ('scaler',\n",
              "                                                                   StandardScaler())]),\n",
              "                                                  ['Tenure', 'WarehouseToHome',\n",
              "                                                   'HourSpendOnApp',\n",
              "                                                   'NumberOfDeviceRegistered',\n",
              "                                                   'NumberOfAddress',\n",
              "                                                   'OrderAmountHikeFromlastYear',\n",
              "                                                   'CouponUsed', 'OrderCount',\n",
              "                                                   'DaySinceLastOrder',\n",
              "                                                   'CashbackAmount']),\n",
              "                                                 ('onehot', OneHotEncoder(),\n",
              "                                                  ['PreferredLoginDevice',\n",
              "                                                   'Gender', 'MaritalStatus',\n",
              "                                                   'PreferredPaymentMode',\n",
              "                                                   'PreferedOrderCat'])])),\n",
              "                ('ros', RandomOverSampler(random_state=42)),\n",
              "                ('model', RandomForestClassifier(random_state=42))])"
            ]
          },
          "metadata": {},
          "execution_count": 77
        }
      ]
    },
    {
      "cell_type": "code",
      "source": [
        "y_pred_default = pipeline2.predict(x_test)\n",
        "y_pred_proba_default = pipeline2.predict_proba(x_test)\n",
        "y_pred_tuned = tuned_model.predict(x_test)\n",
        "y_pred_proba_tuned = tuned_model.predict_proba(x_test)\n",
        "\n",
        "roc_auc_default = roc_auc_score(y_test, y_pred_default)\n",
        "roc_auc_tuned = roc_auc_score(y_test, y_pred_tuned)\n",
        "\n",
        "print('Before Tuning\\n\\nROC-AUC Score: ', roc_auc_default, '\\n\\n', classification_report(y_test, y_pred_default))\n",
        "print('After Tuning\\n\\nROC-AUC Score: ', roc_auc_tuned, '\\n\\n', classification_report(y_test, y_pred_tuned))"
      ],
      "metadata": {
        "colab": {
          "base_uri": "https://localhost:8080/"
        },
        "id": "TCxjDxSZPHJY",
        "outputId": "3a23532c-60f0-4b6c-cf46-cf289b17c842"
      },
      "execution_count": 78,
      "outputs": [
        {
          "output_type": "stream",
          "name": "stdout",
          "text": [
            "Before Tuning\n",
            "\n",
            "ROC-AUC Score:  0.9319933837902862 \n",
            "\n",
            "               precision    recall  f1-score   support\n",
            "\n",
            "           0       0.97      0.99      0.98      1405\n",
            "           1       0.95      0.87      0.91       284\n",
            "\n",
            "    accuracy                           0.97      1689\n",
            "   macro avg       0.96      0.93      0.95      1689\n",
            "weighted avg       0.97      0.97      0.97      1689\n",
            "\n",
            "After Tuning\n",
            "\n",
            "ROC-AUC Score:  0.9348027667786076 \n",
            "\n",
            "               precision    recall  f1-score   support\n",
            "\n",
            "           0       0.98      0.99      0.98      1405\n",
            "           1       0.94      0.88      0.91       284\n",
            "\n",
            "    accuracy                           0.97      1689\n",
            "   macro avg       0.96      0.93      0.95      1689\n",
            "weighted avg       0.97      0.97      0.97      1689\n",
            "\n"
          ]
        }
      ]
    },
    {
      "cell_type": "markdown",
      "source": [
        "From above classification reports, while there are some decreases in the positive precision, there is a slight increase in the positive recall. \n",
        "\n",
        "Next, we will plot the roc-auc graph and the confusion matrix"
      ],
      "metadata": {
        "id": "rzKA_mc6N-GX"
      }
    },
    {
      "cell_type": "code",
      "source": [
        "RocCurveDisplay.from_estimator(pipeline2, x_test, y_test)\n",
        "plt.title('Default Parameter Model ROC-AUC Curve')"
      ],
      "metadata": {
        "colab": {
          "base_uri": "https://localhost:8080/",
          "height": 312
        },
        "id": "0FffVr54TaJu",
        "outputId": "3bdb6609-dd51-4e52-ae24-245f379ad885"
      },
      "execution_count": 79,
      "outputs": [
        {
          "output_type": "execute_result",
          "data": {
            "text/plain": [
              "Text(0.5, 1.0, 'Default Parameter Model ROC-AUC Curve')"
            ]
          },
          "metadata": {},
          "execution_count": 79
        },
        {
          "output_type": "display_data",
          "data": {
            "text/plain": [
              "<Figure size 432x288 with 1 Axes>"
            ],
            "image/png": "[encoded data removed]"
          },
          "metadata": {
            "needs_background": "light"
          }
        }
      ]
    },
    {
      "cell_type": "code",
      "source": [
        "RocCurveDisplay.from_estimator(tuned_model, x_test, y_test)"
      ],
      "metadata": {
        "colab": {
          "base_uri": "https://localhost:8080/",
          "height": 296
        },
        "id": "6lsJI3d4TZ_a",
        "outputId": "99c26c3b-e3a5-45ee-9992-daf500d6d82e"
      },
      "execution_count": 80,
      "outputs": [
        {
          "output_type": "execute_result",
          "data": {
            "text/plain": [
              "<sklearn.metrics._plot.roc_curve.RocCurveDisplay at 0x7f73c6b851d0>"
            ]
          },
          "metadata": {},
          "execution_count": 80
        },
        {
          "output_type": "display_data",
          "data": {
            "text/plain": [
              "<Figure size 432x288 with 1 Axes>"
            ],
            "image/png": "[encoded data removed]"
          },
          "metadata": {
            "needs_background": "light"
          }
        }
      ]
    },
    {
      "cell_type": "code",
      "source": [
        "ConfusionMatrixDisplay.from_estimator(pipeline2, x_test, y_test)\n",
        "plt.title('Default Parameter Model Confusion Matrix')"
      ],
      "metadata": {
        "colab": {
          "base_uri": "https://localhost:8080/",
          "height": 312
        },
        "id": "vwquN1FwTo5U",
        "outputId": "8b7c810d-a3e4-4e5f-c222-5b13f028d906"
      },
      "execution_count": 81,
      "outputs": [
        {
          "output_type": "execute_result",
          "data": {
            "text/plain": [
              "Text(0.5, 1.0, 'Default Parameter Model Confusion Matrix')"
            ]
          },
          "metadata": {},
          "execution_count": 81
        },
        {
          "output_type": "display_data",
          "data": {
            "text/plain": [
              "<Figure size 432x288 with 2 Axes>"
            ],
            "image/png": "[encoded data removed]"
          },
          "metadata": {
            "needs_background": "light"
          }
        }
      ]
    },
    {
      "cell_type": "code",
      "source": [
        "ConfusionMatrixDisplay.from_estimator(tuned_model, x_test, y_test)"
      ],
      "metadata": {
        "colab": {
          "base_uri": "https://localhost:8080/",
          "height": 296
        },
        "id": "aRba-p0TTquR",
        "outputId": "0e4fe967-50fb-413b-c4af-443b32214baa"
      },
      "execution_count": 82,
      "outputs": [
        {
          "output_type": "execute_result",
          "data": {
            "text/plain": [
              "<sklearn.metrics._plot.confusion_matrix.ConfusionMatrixDisplay at 0x7f73cac359d0>"
            ]
          },
          "metadata": {},
          "execution_count": 82
        },
        {
          "output_type": "display_data",
          "data": {
            "text/plain": [
              "<Figure size 432x288 with 2 Axes>"
            ],
            "image/png": "[encoded data removed]"
          },
          "metadata": {
            "needs_background": "light"
          }
        }
      ]
    },
    {
      "cell_type": "markdown",
      "source": [
        "Overall, the performance of the tuned model is slightly better, as can be seen the ROC-AUC score increases by 0.03. And from the confusion matrix, it can be seen while there is a decrease in the true negative value by 2, and an increase of false positive by 2, The true negative increases by 2 and false positive decreases by 2.\n",
        "\n",
        "For this dataset, we are aiming to maximize the recall value therefore, from the classification report it can be seen that the tuned model produced a better positive recall value.\n",
        "\n",
        "Thus, the tuned model will be used."
      ],
      "metadata": {
        "id": "rErOMqx6TA2K"
      }
    },
    {
      "cell_type": "markdown",
      "source": [
        "# Feature Importances"
      ],
      "metadata": {
        "id": "qogj_lhzUI2w"
      }
    },
    {
      "cell_type": "code",
      "source": [
        "cat_transfomer1.fit(x_train)\n",
        "feat = cat_transfomer1.get_feature_names()\n",
        "feat"
      ],
      "metadata": {
        "colab": {
          "base_uri": "https://localhost:8080/"
        },
        "id": "Q3XpTWc1nfTM",
        "outputId": "cd637c78-e41d-4720-b3a2-926503b182e2"
      },
      "execution_count": 83,
      "outputs": [
        {
          "output_type": "stream",
          "name": "stderr",
          "text": [
            "/usr/local/lib/python3.7/dist-packages/sklearn/utils/deprecation.py:87: FutureWarning: Function get_feature_names is deprecated; get_feature_names is deprecated in 1.0 and will be removed in 1.2. Please use get_feature_names_out instead.\n",
            "  warnings.warn(msg, category=FutureWarning)\n"
          ]
        },
        {
          "output_type": "execute_result",
          "data": {
            "text/plain": [
              "['onehot__x0_Computer',\n",
              " 'onehot__x0_Mobile Phone',\n",
              " 'onehot__x1_Female',\n",
              " 'onehot__x1_Male',\n",
              " 'onehot__x2_Divorced',\n",
              " 'onehot__x2_Married',\n",
              " 'onehot__x2_Single',\n",
              " 'onehot__x3_Cash on Delivery',\n",
              " 'onehot__x3_Credit Card',\n",
              " 'onehot__x3_Debit Card',\n",
              " 'onehot__x3_E wallet',\n",
              " 'onehot__x3_UPI',\n",
              " 'onehot__x4_Fashion',\n",
              " 'onehot__x4_Grocery',\n",
              " 'onehot__x4_Laptop & Accessory',\n",
              " 'onehot__x4_Mobile Phone',\n",
              " 'onehot__x4_Others']"
            ]
          },
          "metadata": {},
          "execution_count": 83
        }
      ]
    },
    {
      "cell_type": "code",
      "source": [
        "new = []\n",
        "new = imputer_var.copy()\n",
        "new.extend(feat)\n",
        "new.extend(remainder)"
      ],
      "metadata": {
        "id": "sAM03lqBqlOl"
      },
      "execution_count": 84,
      "outputs": []
    },
    {
      "cell_type": "code",
      "source": [
        "new"
      ],
      "metadata": {
        "colab": {
          "base_uri": "https://localhost:8080/"
        },
        "id": "xhM1bzOYslcF",
        "outputId": "96c68305-ddc2-41c2-c9fa-06c6fbf4b9d2"
      },
      "execution_count": 85,
      "outputs": [
        {
          "output_type": "execute_result",
          "data": {
            "text/plain": [
              "['Tenure',\n",
              " 'WarehouseToHome',\n",
              " 'HourSpendOnApp',\n",
              " 'OrderAmountHikeFromlastYear',\n",
              " 'CouponUsed',\n",
              " 'OrderCount',\n",
              " 'DaySinceLastOrder',\n",
              " 'CashbackAmount',\n",
              " 'onehot__x0_Computer',\n",
              " 'onehot__x0_Mobile Phone',\n",
              " 'onehot__x1_Female',\n",
              " 'onehot__x1_Male',\n",
              " 'onehot__x2_Divorced',\n",
              " 'onehot__x2_Married',\n",
              " 'onehot__x2_Single',\n",
              " 'onehot__x3_Cash on Delivery',\n",
              " 'onehot__x3_Credit Card',\n",
              " 'onehot__x3_Debit Card',\n",
              " 'onehot__x3_E wallet',\n",
              " 'onehot__x3_UPI',\n",
              " 'onehot__x4_Fashion',\n",
              " 'onehot__x4_Grocery',\n",
              " 'onehot__x4_Laptop & Accessory',\n",
              " 'onehot__x4_Mobile Phone',\n",
              " 'onehot__x4_Others',\n",
              " 'CityTier',\n",
              " 'NumberOfDeviceRegistered',\n",
              " 'SatisfactionScore',\n",
              " 'NumberOfAddress',\n",
              " 'Complain']"
            ]
          },
          "metadata": {},
          "execution_count": 85
        }
      ]
    },
    {
      "cell_type": "code",
      "source": [
        "grid.best_estimator_['model'].feature_importances_"
      ],
      "metadata": {
        "colab": {
          "base_uri": "https://localhost:8080/"
        },
        "id": "sodCbk05VC7L",
        "outputId": "0b10745b-312a-4d3b-ecc9-d5a3a2baf236"
      },
      "execution_count": 86,
      "outputs": [
        {
          "output_type": "execute_result",
          "data": {
            "text/plain": [
              "array([0.24591616, 0.06361812, 0.0144098 , 0.0280649 , 0.05059016,\n",
              "       0.05029757, 0.02064243, 0.02882853, 0.05555771, 0.08181227,\n",
              "       0.01248213, 0.01271498, 0.01310302, 0.0127094 , 0.00565205,\n",
              "       0.01666704, 0.02503796, 0.00961017, 0.01426549, 0.01321538,\n",
              "       0.00787925, 0.00540945, 0.0095019 , 0.00489476, 0.01707014,\n",
              "       0.02467086, 0.00266275, 0.02648481, 0.05001504, 0.07621576])"
            ]
          },
          "metadata": {},
          "execution_count": 86
        }
      ]
    },
    {
      "cell_type": "code",
      "source": [
        "feature_importance=pd.DataFrame(data = grid.best_estimator_['model'].feature_importances_, columns=['importance'])\n",
        "feature_importance['features'] = new"
      ],
      "metadata": {
        "id": "vfyHgDaYtDxz"
      },
      "execution_count": 87,
      "outputs": []
    },
    {
      "cell_type": "code",
      "source": [
        "plt.figure(figsize=(10,8))\n",
        "sns.barplot(x='importance', y='features', data = feature_importance.sort_values(by='importance', ascending=False))\n",
        "plt.title('Feature importances')\n",
        "plt.show()"
      ],
      "metadata": {
        "colab": {
          "base_uri": "https://localhost:8080/",
          "height": 513
        },
        "id": "tLQEL1URUNr2",
        "outputId": "5df24a1f-3a41-424c-fa4b-bb2ecdb75bc5"
      },
      "execution_count": 88,
      "outputs": [
        {
          "output_type": "display_data",
          "data": {
            "text/plain": [
              "<Figure size 720x576 with 1 Axes>"
            ],
            "image/png": "[encoded data removed]"
          },
          "metadata": {
            "needs_background": "light"
          }
        }
      ]
    },
    {
      "cell_type": "markdown",
      "source": [
        "From the feature importance graph above, it seems that the top 5 most important feature for the model is tenure, mobile phone preferred login device, complain, warehouse to home, and computer preferred login device.\n",
        "\n",
        "Also, it can be seen that tenure is much more important than the next most important feature, as can be seen that it doubled in the value of the importance than the next most important features."
      ],
      "metadata": {
        "id": "AZvQJvEWvBzS"
      }
    },
    {
      "cell_type": "markdown",
      "source": [
        "# Conclusion"
      ],
      "metadata": {
        "id": "64qC579o4m75"
      }
    },
    {
      "cell_type": "code",
      "source": [
        "print('Final Model \\n\\nModel Used: Random Forest\\n\\nROC-AUC Score: ', roc_auc_tuned, '\\n\\n', classification_report(y_test, y_pred_tuned))"
      ],
      "metadata": {
        "colab": {
          "base_uri": "https://localhost:8080/"
        },
        "id": "UD769UY34pav",
        "outputId": "1f27482b-d033-4639-bfcf-44313fb674fc"
      },
      "execution_count": 89,
      "outputs": [
        {
          "output_type": "stream",
          "name": "stdout",
          "text": [
            "Final Model \n",
            "\n",
            "Model Used: Random Forest\n",
            "\n",
            "ROC-AUC Score:  0.9348027667786076 \n",
            "\n",
            "               precision    recall  f1-score   support\n",
            "\n",
            "           0       0.98      0.99      0.98      1405\n",
            "           1       0.94      0.88      0.91       284\n",
            "\n",
            "    accuracy                           0.97      1689\n",
            "   macro avg       0.96      0.93      0.95      1689\n",
            "weighted avg       0.97      0.97      0.97      1689\n",
            "\n"
          ]
        }
      ]
    },
    {
      "cell_type": "markdown",
      "source": [
        "Based on the classification report, according to the precision value, we could see the positive precision is 0.94 which means that, from this dataset, the model can correctly predict 94% of the customers that will churn. \n",
        "\n",
        "While according to the recall value, with the positive recall value of 0.88 we can conclude that the model can predict 88% of the customers that will actually churn. Since the dataset is imbalanced, we will ignore the accuracy value, since it does not represent the model's accuracy correctly.\n",
        "\n",
        "In theory, we can calculate the amount of the revenue before and after the churn, from the revenue that the company will have before and after the churn, and the difference between the two are counted as the loss, and to compensate the loss of customers, the company will try to acquire more customers and thus, increase the amount of the acquisition cost, however, most sources states that it is cheaper to have customer retention as it usually costs less.\n",
        "\n",
        "Thus, by using the model, we can predict customers that will churn, approach such customers and offer some promotions to prevent them from churning and attract them back to using the online store again."
      ],
      "metadata": {
        "id": "EbFjLKtC5E8n"
      }
    },
    {
      "cell_type": "markdown",
      "source": [
        "So, according to this dataset,\n",
        "\n",
        "- Total Customers Before Churn: 5630 people\n",
        "- Total Customers that Churns: 948 people\n",
        "\n",
        "From this dataset,\n",
        "\n",
        "- Based on the positive recall, The model can detect: 0.88 * 948 = 834 people\n",
        "- The model however missed: 0.12 * 948 = 114 people"
      ],
      "metadata": {
        "id": "wx1iENQL35SC"
      }
    },
    {
      "cell_type": "markdown",
      "source": [
        "Suppose that, Average revenue per customer across 2814 stores in 2022 is US$ 111 based on: https://www.littledata.io/average/revenue-per-customer \n",
        "\n",
        "And suppose that, Average customer acquisition cost in e-commerce is US$ 45.27 based on: https://blog.converted.in/en-us/blog/average-customer-acquisition-cost-in-ecommerce#REDUCE\n",
        "\n",
        "Also suppose that, the customer retention cost is one-fifth of the customer acquisition cost, based on: https://www.moengage.com/learn/average-customer-retention-rate-by-industry/\n",
        "\n",
        "Based on the test data if the company wanted to gain back the number of customer before the churn,\n",
        "\n",
        "- Revenue before Churn: 1689 * 111 = USD 187,479\n",
        "- Revenue after Churn: 1405 * 111  = USD 155,955\n",
        "- Loss because of Churn: 284 * 111 = USD 31,524\n",
        "- Customer Acquisition to equal before churn: 284 * 45.27 = USD 12,856.68\n",
        "- Total loss: USD 12,856.68 \n",
        "\n",
        "If the model is used, supposed that we give promotions and special deals to customers who are likely to churn and we manage to make the customers to not churn:\n",
        "\n",
        "- Customer Retention(Churning Customers that is predicted) = 0.88 * 284 * 9 = USD 2,249.8 (Since we are trying to attract them back with extra offers)\n",
        "- Missed Customer Loss Customer Acquisition: 0.12 * 284 * 45.27 = USD 1,542.8\n",
        "- Total Loss: USD 2,249.8 + USD 1,542.8 = USD 3,792.6\n",
        "- Total Saving: USD 12,856.68 - USD 3,792.6 = USD 9,064.08\n",
        "\n",
        "However, there are still unpredictable pattern such as, customer still churning despite the promotions. But, there are still chances to acquire new customers free of cost, such as, new customers due to word-of-mouth from existing customers.\n",
        "\n"
      ],
      "metadata": {
        "id": "QLxZzLIcE-AV"
      }
    },
    {
      "cell_type": "markdown",
      "source": [
        "# Recommendations"
      ],
      "metadata": {
        "id": "OrJrgRqv2AOE"
      }
    },
    {
      "cell_type": "code",
      "source": [
        "x_test['Churn'] = y_test\n",
        "x_test['Churn Probability'] = y_pred_proba_tuned[:,1]"
      ],
      "metadata": {
        "id": "Tf6jiIHeyGzp"
      },
      "execution_count": 90,
      "outputs": []
    },
    {
      "cell_type": "code",
      "source": [
        "x_test.groupby('Churn')['Churn Probability'].describe()"
      ],
      "metadata": {
        "colab": {
          "base_uri": "https://localhost:8080/",
          "height": 143
        },
        "id": "yuC5_jKTyiOT",
        "outputId": "3d4419e4-1647-40c7-de21-0ad35e24807d"
      },
      "execution_count": 92,
      "outputs": [
        {
          "output_type": "execute_result",
          "data": {
            "text/plain": [
              "        count      mean       std    min      25%     50%   75%   max\n",
              "Churn                                                                \n",
              "0      1405.0  0.072060  0.092478  0.000  0.01500  0.0400  0.09  0.67\n",
              "1       284.0  0.781338  0.202371  0.155  0.65375  0.8475  0.96  1.00"
            ],
            "text/html": [
              "\n",
              "  <div id=\"df-039ccd68-37f8-4975-982e-194abd445f3b\">\n",
              "    <div class=\"colab-df-container\">\n",
              "      <div>\n",
              "<style scoped>\n",
              "    .dataframe tbody tr th:only-of-type {\n",
              "        vertical-align: middle;\n",
              "    }\n",
              "\n",
              "    .dataframe tbody tr th {\n",
              "        vertical-align: top;\n",
              "    }\n",
              "\n",
              "    .dataframe thead th {\n",
              "        text-align: right;\n",
              "    }\n",
              "</style>\n",
              "<table border=\"1\" class=\"dataframe\">\n",
              "  <thead>\n",
              "    <tr style=\"text-align: right;\">\n",
              "      <th></th>\n",
              "      <th>count</th>\n",
              "      <th>mean</th>\n",
              "      <th>std</th>\n",
              "      <th>min</th>\n",
              "      <th>25%</th>\n",
              "      <th>50%</th>\n",
              "      <th>75%</th>\n",
              "      <th>max</th>\n",
              "    </tr>\n",
              "    <tr>\n",
              "      <th>Churn</th>\n",
              "      <th></th>\n",
              "      <th></th>\n",
              "      <th></th>\n",
              "      <th></th>\n",
              "      <th></th>\n",
              "      <th></th>\n",
              "      <th></th>\n",
              "      <th></th>\n",
              "    </tr>\n",
              "  </thead>\n",
              "  <tbody>\n",
              "    <tr>\n",
              "      <th>0</th>\n",
              "      <td>1405.0</td>\n",
              "      <td>0.072060</td>\n",
              "      <td>0.092478</td>\n",
              "      <td>0.000</td>\n",
              "      <td>0.01500</td>\n",
              "      <td>0.0400</td>\n",
              "      <td>0.09</td>\n",
              "      <td>0.67</td>\n",
              "    </tr>\n",
              "    <tr>\n",
              "      <th>1</th>\n",
              "      <td>284.0</td>\n",
              "      <td>0.781338</td>\n",
              "      <td>0.202371</td>\n",
              "      <td>0.155</td>\n",
              "      <td>0.65375</td>\n",
              "      <td>0.8475</td>\n",
              "      <td>0.96</td>\n",
              "      <td>1.00</td>\n",
              "    </tr>\n",
              "  </tbody>\n",
              "</table>\n",
              "</div>\n",
              "      <button class=\"colab-df-convert\" onclick=\"convertToInteractive('df-039ccd68-37f8-4975-982e-194abd445f3b')\"\n",
              "              title=\"Convert this dataframe to an interactive table.\"\n",
              "              style=\"display:none;\">\n",
              "        \n",
              "  <svg xmlns=\"http://www.w3.org/2000/svg\" height=\"24px\"viewBox=\"0 0 24 24\"\n",
              "       width=\"24px\">\n",
              "    <path d=\"M0 0h24v24H0V0z\" fill=\"none\"/>\n",
              "    <path d=\"M18.56 5.44l.94 2.06.94-2.06 2.06-.94-2.06-.94-.94-2.06-.94 2.06-2.06.94zm-11 1L8.5 8.5l.94-2.06 2.06-.94-2.06-.94L8.5 2.5l-.94 2.06-2.06.94zm10 10l.94 2.06.94-2.06 2.06-.94-2.06-.94-.94-2.06-.94 2.06-2.06.94z\"/><path d=\"M17.41 7.96l-1.37-1.37c-.4-.4-.92-.59-1.43-.59-.52 0-1.04.2-1.43.59L10.3 9.45l-7.72 7.72c-.78.78-.78 2.05 0 2.83L4 21.41c.39.39.9.59 1.41.59.51 0 1.02-.2 1.41-.59l7.78-7.78 2.81-2.81c.8-.78.8-2.07 0-2.86zM5.41 20L4 18.59l7.72-7.72 1.47 1.35L5.41 20z\"/>\n",
              "  </svg>\n",
              "      </button>\n",
              "      \n",
              "  <style>\n",
              "    .colab-df-container {\n",
              "      display:flex;\n",
              "      flex-wrap:wrap;\n",
              "      gap: 12px;\n",
              "    }\n",
              "\n",
              "    .colab-df-convert {\n",
              "      background-color: #E8F0FE;\n",
              "      border: none;\n",
              "      border-radius: 50%;\n",
              "      cursor: pointer;\n",
              "      display: none;\n",
              "      fill: #1967D2;\n",
              "      height: 32px;\n",
              "      padding: 0 0 0 0;\n",
              "      width: 32px;\n",
              "    }\n",
              "\n",
              "    .colab-df-convert:hover {\n",
              "      background-color: #E2EBFA;\n",
              "      box-shadow: 0px 1px 2px rgba(60, 64, 67, 0.3), 0px 1px 3px 1px rgba(60, 64, 67, 0.15);\n",
              "      fill: #174EA6;\n",
              "    }\n",
              "\n",
              "    [theme=dark] .colab-df-convert {\n",
              "      background-color: #3B4455;\n",
              "      fill: #D2E3FC;\n",
              "    }\n",
              "\n",
              "    [theme=dark] .colab-df-convert:hover {\n",
              "      background-color: #434B5C;\n",
              "      box-shadow: 0px 1px 3px 1px rgba(0, 0, 0, 0.15);\n",
              "      filter: drop-shadow(0px 1px 2px rgba(0, 0, 0, 0.3));\n",
              "      fill: #FFFFFF;\n",
              "    }\n",
              "  </style>\n",
              "\n",
              "      <script>\n",
              "        const buttonEl =\n",
              "          document.querySelector('#df-039ccd68-37f8-4975-982e-194abd445f3b button.colab-df-convert');\n",
              "        buttonEl.style.display =\n",
              "          google.colab.kernel.accessAllowed ? 'block' : 'none';\n",
              "\n",
              "        async function convertToInteractive(key) {\n",
              "          const element = document.querySelector('#df-039ccd68-37f8-4975-982e-194abd445f3b');\n",
              "          const dataTable =\n",
              "            await google.colab.kernel.invokeFunction('convertToInteractive',\n",
              "                                                     [key], {});\n",
              "          if (!dataTable) return;\n",
              "\n",
              "          const docLinkHtml = 'Like what you see? Visit the ' +\n",
              "            '<a target=\"_blank\" href=https://colab.research.google.com/notebooks/data_table.ipynb>data table notebook</a>'\n",
              "            + ' to learn more about interactive tables.';\n",
              "          element.innerHTML = '';\n",
              "          dataTable['output_type'] = 'display_data';\n",
              "          await google.colab.output.renderOutput(dataTable, element);\n",
              "          const docLink = document.createElement('div');\n",
              "          docLink.innerHTML = docLinkHtml;\n",
              "          element.appendChild(docLink);\n",
              "        }\n",
              "      </script>\n",
              "    </div>\n",
              "  </div>\n",
              "  "
            ]
          },
          "metadata": {},
          "execution_count": 92
        }
      ]
    },
    {
      "cell_type": "markdown",
      "source": [
        "- Regarding the implementation of this model, we could use probability prediction to create a tiered promotion strategy, with several tiers, with predetermined probability threshold, we could push bigger promotions and e-mail to customers who have a higher probability to churn, and ease on promotions on customers who have less churn probability. For example, focus the promotion on people whose churn probability is higher than 80%, and give less promotions on customers who are 20% chance to churn\n",
        "- From the exploratory data analysis and the feature importances, it can be seen that customers that had a complain have a higher churn rate than the customers that did not had complains, at about 21% higher churn rate and thus after the customer complains, offer some coupons or promotions. \n",
        "- Tenure is an important factor in the customer churn, with no customers with tenure of 25 churning, thus, give incentives and deals for people with medium tenure to build customer loyalty.\n",
        "- Add more features regarding the customers' data such as, age and occupation, also, features such as, monthly spending amount of each customer could also help the model training.\n",
        "- In addition to such features, we can also try to do some sentiment analysis on complains and reason that the customer churns for example, by assigning a positive value to positive sentiment and negative value for negative sentiment, by using the result of the model of the sentiment analysis, improvements can be made to the current model.\n",
        "- If the company had a recommendation system currently implemented in the online store, perhaps data from each customer recommendation can be used for each of the customer's promotions or coupons target.\n",
        "- Try other Machine Learning models and expand upon the hyperparameter tuning."
      ],
      "metadata": {
        "id": "oZuPxPBC2DSL"
      }
    }
  ]
}